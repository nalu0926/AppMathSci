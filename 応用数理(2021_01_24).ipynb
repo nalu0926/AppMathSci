{
  "nbformat": 4,
  "nbformat_minor": 0,
  "metadata": {
    "colab": {
      "name": "応用数理(2021.01.24).ipynb",
      "provenance": [],
      "collapsed_sections": [],
      "authorship_tag": "ABX9TyMl8zFCcRj6QAPVnXFJRvu1",
      "include_colab_link": true
    },
    "kernelspec": {
      "name": "python3",
      "display_name": "Python 3"
    },
    "language_info": {
      "name": "python"
    }
  },
  "cells": [
    {
      "cell_type": "markdown",
      "metadata": {
        "id": "view-in-github",
        "colab_type": "text"
      },
      "source": [
        "<a href=\"https://colab.research.google.com/github/yasuhiroinoue/AppMathSci/blob/main/%E5%BF%9C%E7%94%A8%E6%95%B0%E7%90%86(2021_01_24).ipynb\" target=\"_parent\"><img src=\"https://colab.research.google.com/assets/colab-badge.svg\" alt=\"Open In Colab\"/></a>"
      ]
    },
    {
      "cell_type": "markdown",
      "metadata": {
        "id": "cdmWAUzs5Msv"
      },
      "source": [
        "##**応用数理科学（第14回）**##\n",
        "ハッカソン\n",
        "\n",
        "個人でやるもよし、チームでやるもよし。講義で学んだことを実践してみよう。"
      ]
    },
    {
      "cell_type": "markdown",
      "metadata": {
        "id": "gXFMp0dF5osM"
      },
      "source": [
        "１．マウナロアにおける月平均CO2値について、現在取得できる最新値から6ヶ月先まで予測しなさい。\n",
        "\n",
        "[データセット（CO2 at Mauna Loa）](https://gml.noaa.gov/ccgg/trends/data.html)\n"
      ]
    },
    {
      "cell_type": "markdown",
      "metadata": {
        "id": "NTyEjxB9vJlr"
      },
      "source": [
        "２．人口動態について、数理モデルを作成し、実際のデータを用いて、各国のパラメータ値を推定しなさい。\n",
        "\n",
        "[データコモンズ](https://datacommons.org/?hl=ja)\n"
      ]
    },
    {
      "cell_type": "markdown",
      "metadata": {
        "id": "ZHVdfURUvzuq"
      },
      "source": [
        "３．自分が取り組む研究について、数理科学の応用を考え、実際に試みた結果をまとめなさい。"
      ]
    }
  ]
}