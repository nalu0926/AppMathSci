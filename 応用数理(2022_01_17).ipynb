{
  "nbformat": 4,
  "nbformat_minor": 0,
  "metadata": {
    "colab": {
      "name": "応用数理(2022.01.17).ipynb",
      "provenance": [],
      "collapsed_sections": [],
      "authorship_tag": "ABX9TyMnghPuMJcrygqUyIezWGvF",
      "include_colab_link": true
    },
    "kernelspec": {
      "name": "python3",
      "display_name": "Python 3"
    },
    "language_info": {
      "name": "python"
    }
  },
  "cells": [
    {
      "cell_type": "markdown",
      "metadata": {
        "id": "view-in-github",
        "colab_type": "text"
      },
      "source": [
        "<a href=\"https://colab.research.google.com/github/yasuhiroinoue/AppMathSci/blob/main/%E5%BF%9C%E7%94%A8%E6%95%B0%E7%90%86(2022_01_17).ipynb\" target=\"_parent\"><img src=\"https://colab.research.google.com/assets/colab-badge.svg\" alt=\"Open In Colab\"/></a>"
      ]
    },
    {
      "cell_type": "markdown",
      "metadata": {
        "id": "amwq1zdT6Zgi"
      },
      "source": [
        "##**応用数理科学（第14回）**##\n",
        "ハッカソン（物理編）"
      ]
    },
    {
      "cell_type": "markdown",
      "metadata": {
        "id": "yaR7do1A6Zmb"
      },
      "source": [
        "個人でやるもよし、チームでやるもよし。\n",
        "数理モデルが時間を超越することを体験してもらいます。"
      ]
    }
  ]
}