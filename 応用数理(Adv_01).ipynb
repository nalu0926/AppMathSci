{
  "nbformat": 4,
  "nbformat_minor": 0,
  "metadata": {
    "colab": {
      "provenance": [],
      "authorship_tag": "ABX9TyOjfVpkMPR/GWfvnA6XjjpS",
      "include_colab_link": true
    },
    "kernelspec": {
      "name": "python3",
      "display_name": "Python 3"
    },
    "language_info": {
      "name": "python"
    }
  },
  "cells": [
    {
      "cell_type": "markdown",
      "metadata": {
        "id": "view-in-github",
        "colab_type": "text"
      },
      "source": [
        "<a href=\"https://colab.research.google.com/github/yasuhiroinoue/AppMathSci/blob/main/%E5%BF%9C%E7%94%A8%E6%95%B0%E7%90%86(Adv_01).ipynb\" target=\"_parent\"><img src=\"https://colab.research.google.com/assets/colab-badge.svg\" alt=\"Open In Colab\"/></a>"
      ]
    },
    {
      "cell_type": "code",
      "source": [
        "!pip install qiskit\n",
        "!pip install qiskit_ibm_runtime\n",
        "!pip install pylatexenc"
      ],
      "metadata": {
        "id": "aW5-hQDUeELI"
      },
      "execution_count": null,
      "outputs": []
    },
    {
      "cell_type": "code",
      "source": [
        "from qiskit import QuantumCircuit, transpile\n",
        "from qiskit_ibm_runtime import QiskitRuntimeService, Sampler, Estimator, Session\n",
        "from qiskit.transpiler.preset_passmanagers import generate_preset_pass_manager\n",
        "from qiskit_ibm_runtime import QiskitRuntimeService, SamplerV2 as Sampler\n",
        "from qiskit.visualization import plot_histogram"
      ],
      "metadata": {
        "id": "SayPZ-8zBQ0h"
      },
      "execution_count": 57,
      "outputs": []
    },
    {
      "cell_type": "markdown",
      "source": [
        "Run the code using a simulator as follows."
      ],
      "metadata": {
        "id": "l9ot87d854XF"
      }
    },
    {
      "cell_type": "code",
      "source": [
        "# Create a 2-qubit circuit\n",
        "circuit = QuantumCircuit(2)\n",
        "circuit.h(0)  # Apply Hadamard gate\n",
        "circuit.cx(0, 1)  # Apply CNOT gate\n",
        "circuit.measure_all()\n",
        "circuit.draw('mpl')"
      ],
      "metadata": {
        "colab": {
          "base_uri": "https://localhost:8080/",
          "height": 255
        },
        "id": "HiADhxoKBdjF",
        "outputId": "6dd861c6-0d04-4592-ecfa-72c237c8e155"
      },
      "execution_count": 58,
      "outputs": [
        {
          "output_type": "execute_result",
          "data": {
            "text/plain": [
              "<Figure size 580.387x284.278 with 1 Axes>"
            ],
            "image/png": "[encoded data removed]"
          },
          "metadata": {},
          "execution_count": 58
        }
      ]
    },
    {
      "cell_type": "code",
      "source": [
        "from qiskit_ibm_runtime.fake_provider import FakeManilaV2\n",
        "backend = FakeManilaV2()"
      ],
      "metadata": {
        "id": "okPg4HdTvr0R"
      },
      "execution_count": 59,
      "outputs": []
    },
    {
      "cell_type": "code",
      "source": [
        "# Transpile the ideal circuit to a circuit that can be directly executed by the backend\n",
        "transpiled_circuit = transpile(circuit, backend)\n",
        "# transpiled_circuit.draw('mpl')"
      ],
      "metadata": {
        "id": "2rS-yEE96QkM"
      },
      "execution_count": 60,
      "outputs": []
    },
    {
      "cell_type": "code",
      "source": [
        "# Execute using the Sampler primitive\n",
        "sampler = Sampler(mode=backend)\n",
        "job = sampler.run([transpiled_circuit], shots=1024)"
      ],
      "metadata": {
        "colab": {
          "base_uri": "https://localhost:8080/"
        },
        "id": "V6xuFK2j6UE1",
        "outputId": "6144e673-9c7f-4b3b-c0bf-849bff1ce9e4"
      },
      "execution_count": 61,
      "outputs": [
        {
          "output_type": "stream",
          "name": "stderr",
          "text": [
            "/usr/local/lib/python3.10/dist-packages/qiskit_ibm_runtime/fake_provider/fake_backend.py:468: RuntimeWarning: Aer not found, using qiskit.BasicSimulator and no noise.\n",
            "  warnings.warn(\n"
          ]
        }
      ]
    },
    {
      "cell_type": "code",
      "source": [
        "pub_result = job.result()[0]\n",
        "print(f\"Counts for the meas output register: {pub_result.data.meas.get_counts()}\")"
      ],
      "metadata": {
        "colab": {
          "base_uri": "https://localhost:8080/"
        },
        "id": "sJh5XPlc6dnf",
        "outputId": "73cf5e90-8ee0-4c86-949d-d8c7c9f1d627"
      },
      "execution_count": 62,
      "outputs": [
        {
          "output_type": "stream",
          "name": "stdout",
          "text": [
            "Counts for the meas output register: {'11': 512, '00': 512}\n"
          ]
        }
      ]
    },
    {
      "cell_type": "code",
      "source": [
        "# Display the histogram\n",
        "plot_histogram(pub_result.data.meas.get_counts())"
      ],
      "metadata": {
        "colab": {
          "base_uri": "https://localhost:8080/",
          "height": 437
        },
        "id": "ca_DQjMY6pRB",
        "outputId": "67bc48cc-acaa-4abc-8eff-d69e19bdf281"
      },
      "execution_count": 63,
      "outputs": [
        {
          "output_type": "execute_result",
          "data": {
            "text/plain": [
              "<Figure size 640x480 with 1 Axes>"
            ],
            "image/png": "[encoded data removed]"
          },
          "metadata": {},
          "execution_count": 63
        }
      ]
    },
    {
      "cell_type": "markdown",
      "source": [
        "Run the code on Quantum Computer at IBM as follows."
      ],
      "metadata": {
        "id": "vl09VWsZBlw-"
      }
    },
    {
      "cell_type": "code",
      "source": [
        "from google.colab import userdata\n",
        "ibm_token = userdata.get('ibm_token')"
      ],
      "metadata": {
        "id": "Fhfvlv-zpYOF"
      },
      "execution_count": 22,
      "outputs": []
    },
    {
      "cell_type": "code",
      "source": [
        "from qiskit_ibm_runtime import QiskitRuntimeService\n",
        "\n",
        "service = QiskitRuntimeService(\n",
        "    channel='ibm_quantum',\n",
        "    instance='ibm-q/open/main',\n",
        "    token=ibm_token\n",
        ")"
      ],
      "metadata": {
        "id": "3DJQH1RikKrB"
      },
      "execution_count": 23,
      "outputs": []
    },
    {
      "cell_type": "code",
      "source": [
        "# Create a 2-qubit circuit\n",
        "circuit = QuantumCircuit(2)\n",
        "circuit.h(0)  # Apply Hadamard gate\n",
        "circuit.cx(0, 1)  # Apply CNOT gate\n",
        "circuit.measure_all()\n",
        "circuit.draw('mpl')"
      ],
      "metadata": {
        "colab": {
          "base_uri": "https://localhost:8080/",
          "height": 255
        },
        "id": "usygrzLZprJZ",
        "outputId": "acf548f2-d5ce-4f0a-f37c-e8ce2c4a7a4d"
      },
      "execution_count": 24,
      "outputs": [
        {
          "output_type": "execute_result",
          "data": {
            "text/plain": [
              "<Figure size 580.387x284.278 with 1 Axes>"
            ],
            "image/png": "[encoded data removed]"
          },
          "metadata": {},
          "execution_count": 24
        }
      ]
    },
    {
      "cell_type": "code",
      "source": [
        "# Select the least busy available backend\n",
        "backend = service.least_busy(operational=True, simulator=False)\n",
        "print(f\"Selected backend: {backend}\")\n",
        "\n",
        "# Transpile the circuit with optimization level 1\n",
        "pm = generate_preset_pass_manager(backend=backend, optimization_level=1)\n",
        "isa_circuit = pm.run(circuit)\n",
        "\n",
        "# Execute using the Sampler primitive\n",
        "sampler = Sampler(mode=backend)\n",
        "sampler.options.default_shots = 1024  # Options can be set using auto-complete.\n",
        "job = sampler.run([isa_circuit])\n",
        "print(f\"Job ID is {job.job_id()}\")"
      ],
      "metadata": {
        "id": "_LxHNXHHvYut"
      },
      "execution_count": null,
      "outputs": []
    },
    {
      "cell_type": "code",
      "source": [
        "job = service.job('cw0mjxkjz3x0008j6fqg')"
      ],
      "metadata": {
        "id": "u-PxrvX7DNDZ"
      },
      "execution_count": 25,
      "outputs": []
    },
    {
      "cell_type": "code",
      "source": [
        "pub_result = job.result()[0]\n",
        "print(f\"Counts for the meas output register: {pub_result.data.meas.get_counts()}\")"
      ],
      "metadata": {
        "colab": {
          "base_uri": "https://localhost:8080/"
        },
        "id": "hK9ZFXCRsOpe",
        "outputId": "b65757bf-0b3c-4734-d56d-7897b074f5f3"
      },
      "execution_count": 26,
      "outputs": [
        {
          "output_type": "stream",
          "name": "stdout",
          "text": [
            "Counts for the meas output register: {'11': 507, '00': 487, '10': 7, '01': 23}\n"
          ]
        }
      ]
    },
    {
      "source": [
        "# Display the histogram\n",
        "plot_histogram(pub_result.data.meas.get_counts())"
      ],
      "cell_type": "code",
      "metadata": {
        "colab": {
          "base_uri": "https://localhost:8080/",
          "height": 437
        },
        "id": "0kqNI5OAs9Hx",
        "outputId": "3ca6f82f-4c7f-48da-9345-ea9da5809b7a"
      },
      "execution_count": 27,
      "outputs": [
        {
          "output_type": "execute_result",
          "data": {
            "text/plain": [
              "<Figure size 640x480 with 1 Axes>"
            ],
            "image/png": "[encoded data removed]"
          },
          "metadata": {},
          "execution_count": 27
        }
      ]
    }
  ]
}