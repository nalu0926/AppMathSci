{
  "nbformat": 4,
  "nbformat_minor": 0,
  "metadata": {
    "colab": {
      "name": "応用数理(2021_10_04).ipynb",
      "provenance": [],
      "collapsed_sections": [],
      "authorship_tag": "ABX9TyPSSlxS6O3yqbJkyMm9W/Fz",
      "include_colab_link": true
    },
    "kernelspec": {
      "name": "python3",
      "display_name": "Python 3"
    },
    "language_info": {
      "name": "python"
    }
  },
  "cells": [
    {
      "cell_type": "markdown",
      "metadata": {
        "id": "view-in-github",
        "colab_type": "text"
      },
      "source": [
        "<a href=\"https://colab.research.google.com/github/yasuhiroinoue/AppMathSci/blob/main/%E5%BF%9C%E7%94%A8%E6%95%B0%E7%90%86(2021_10_04).ipynb\" target=\"_parent\"><img src=\"https://colab.research.google.com/assets/colab-badge.svg\" alt=\"Open In Colab\"/></a>"
      ]
    },
    {
      "cell_type": "code",
      "metadata": {
        "id": "remzpEAKR9gL"
      },
      "source": [
        "\n",
        "%matplotlib inline\n",
        "import numpy as np\n",
        "import math\n",
        "import pandas as pd\n",
        "import matplotlib.pyplot as plt"
      ],
      "execution_count": null,
      "outputs": []
    },
    {
      "cell_type": "markdown",
      "metadata": {
        "id": "VgfOxHXnSS_F"
      },
      "source": [
        "#**応用数理科学（第1回）**\n",
        "成長と減衰\n",
        "$$dy/dt=ky$$"
      ]
    },
    {
      "cell_type": "markdown",
      "metadata": {
        "id": "ryTxM-aZSaj5"
      },
      "source": [
        "#**人口動態**\n",
        "人口予測は、社会基盤、福祉、環境などの様々な観点から重要である。人口動態の予測をするための数理モデルを考えよう。ただし、第1回の目的は、別にあり、人口動態の数理モデル構築を体験を通し、以下の数理モデリングの作法を知ることである。\n",
        "\n",
        "1.   現象の観察（問題の認識）\n",
        "2.   作業仮説の立案\n",
        "3.   数式化（数理モデリング）\n",
        "4.   数式を解く（多くの場合、シミュレーション）\n",
        "5.   解の意味を考察\n",
        "6.   数理モデルの検証（１と比較し、振る舞いを説明できなければ2に戻る）\n",
        "7.   数理モデルを用いて、現象の説明、予測、意思決定、計画立案など\n"
      ]
    },
    {
      "cell_type": "markdown",
      "metadata": {
        "id": "M3X7ZkVNUO2N"
      },
      "source": [
        "**人口データ**\n",
        "googleで\"人口 日本\"と検索すると、容易にデータが手に入る。\n",
        "以下のリンクから、人口統計のデータをcsv形式でエクスポートしよう。\n",
        "[人口データ](https://datacommons.org/place/country/JPN?utm_medium=explore&mprop=count&popt=Person&hl=ja)\n",
        "\n",
        "ダウロードしたら、第1行目の1列目=year, 2列目=populationと記載する。今後、軸用のラベルに使う。"
      ]
    },
    {
      "cell_type": "code",
      "metadata": {
        "colab": {
          "base_uri": "https://localhost:8080/",
          "height": 1000
        },
        "id": "5ZU-CItsUdJn",
        "outputId": "a02c7c8a-9847-4dc8-c0c3-73cca83435d5"
      },
      "source": [
        "#まず、データをながめる\n",
        "df_info= pd.read_csv(\"export.csv\")\n",
        "df_info"
      ],
      "execution_count": null,
      "outputs": [
        {
          "output_type": "execute_result",
          "data": {
            "text/html": [
              "<div>\n",
              "<style scoped>\n",
              "    .dataframe tbody tr th:only-of-type {\n",
              "        vertical-align: middle;\n",
              "    }\n",
              "\n",
              "    .dataframe tbody tr th {\n",
              "        vertical-align: top;\n",
              "    }\n",
              "\n",
              "    .dataframe thead th {\n",
              "        text-align: right;\n",
              "    }\n",
              "</style>\n",
              "<table border=\"1\" class=\"dataframe\">\n",
              "  <thead>\n",
              "    <tr style=\"text-align: right;\">\n",
              "      <th></th>\n",
              "      <th>year</th>\n",
              "      <th>population</th>\n",
              "    </tr>\n",
              "  </thead>\n",
              "  <tbody>\n",
              "    <tr>\n",
              "      <th>0</th>\n",
              "      <td>1960</td>\n",
              "      <td>92500572</td>\n",
              "    </tr>\n",
              "    <tr>\n",
              "      <th>1</th>\n",
              "      <td>1961</td>\n",
              "      <td>94943000</td>\n",
              "    </tr>\n",
              "    <tr>\n",
              "      <th>2</th>\n",
              "      <td>1962</td>\n",
              "      <td>95832000</td>\n",
              "    </tr>\n",
              "    <tr>\n",
              "      <th>3</th>\n",
              "      <td>1963</td>\n",
              "      <td>96812000</td>\n",
              "    </tr>\n",
              "    <tr>\n",
              "      <th>4</th>\n",
              "      <td>1964</td>\n",
              "      <td>97826000</td>\n",
              "    </tr>\n",
              "    <tr>\n",
              "      <th>5</th>\n",
              "      <td>1965</td>\n",
              "      <td>98883000</td>\n",
              "    </tr>\n",
              "    <tr>\n",
              "      <th>6</th>\n",
              "      <td>1966</td>\n",
              "      <td>99790000</td>\n",
              "    </tr>\n",
              "    <tr>\n",
              "      <th>7</th>\n",
              "      <td>1967</td>\n",
              "      <td>100725000</td>\n",
              "    </tr>\n",
              "    <tr>\n",
              "      <th>8</th>\n",
              "      <td>1968</td>\n",
              "      <td>101061000</td>\n",
              "    </tr>\n",
              "    <tr>\n",
              "      <th>9</th>\n",
              "      <td>1969</td>\n",
              "      <td>103172000</td>\n",
              "    </tr>\n",
              "    <tr>\n",
              "      <th>10</th>\n",
              "      <td>1970</td>\n",
              "      <td>104345000</td>\n",
              "    </tr>\n",
              "    <tr>\n",
              "      <th>11</th>\n",
              "      <td>1971</td>\n",
              "      <td>105697000</td>\n",
              "    </tr>\n",
              "    <tr>\n",
              "      <th>12</th>\n",
              "      <td>1972</td>\n",
              "      <td>107188000</td>\n",
              "    </tr>\n",
              "    <tr>\n",
              "      <th>13</th>\n",
              "      <td>1973</td>\n",
              "      <td>108079000</td>\n",
              "    </tr>\n",
              "    <tr>\n",
              "      <th>14</th>\n",
              "      <td>1974</td>\n",
              "      <td>110162000</td>\n",
              "    </tr>\n",
              "    <tr>\n",
              "      <th>15</th>\n",
              "      <td>1975</td>\n",
              "      <td>111940000</td>\n",
              "    </tr>\n",
              "    <tr>\n",
              "      <th>16</th>\n",
              "      <td>1976</td>\n",
              "      <td>112771000</td>\n",
              "    </tr>\n",
              "    <tr>\n",
              "      <th>17</th>\n",
              "      <td>1977</td>\n",
              "      <td>113863000</td>\n",
              "    </tr>\n",
              "    <tr>\n",
              "      <th>18</th>\n",
              "      <td>1978</td>\n",
              "      <td>114898000</td>\n",
              "    </tr>\n",
              "    <tr>\n",
              "      <th>19</th>\n",
              "      <td>1979</td>\n",
              "      <td>115870000</td>\n",
              "    </tr>\n",
              "    <tr>\n",
              "      <th>20</th>\n",
              "      <td>1980</td>\n",
              "      <td>116782000</td>\n",
              "    </tr>\n",
              "    <tr>\n",
              "      <th>21</th>\n",
              "      <td>1981</td>\n",
              "      <td>117648000</td>\n",
              "    </tr>\n",
              "    <tr>\n",
              "      <th>22</th>\n",
              "      <td>1982</td>\n",
              "      <td>118449000</td>\n",
              "    </tr>\n",
              "    <tr>\n",
              "      <th>23</th>\n",
              "      <td>1983</td>\n",
              "      <td>119259000</td>\n",
              "    </tr>\n",
              "    <tr>\n",
              "      <th>24</th>\n",
              "      <td>1984</td>\n",
              "      <td>120018000</td>\n",
              "    </tr>\n",
              "    <tr>\n",
              "      <th>25</th>\n",
              "      <td>1985</td>\n",
              "      <td>120754000</td>\n",
              "    </tr>\n",
              "    <tr>\n",
              "      <th>26</th>\n",
              "      <td>1986</td>\n",
              "      <td>121492000</td>\n",
              "    </tr>\n",
              "    <tr>\n",
              "      <th>27</th>\n",
              "      <td>1987</td>\n",
              "      <td>122091000</td>\n",
              "    </tr>\n",
              "    <tr>\n",
              "      <th>28</th>\n",
              "      <td>1988</td>\n",
              "      <td>122613000</td>\n",
              "    </tr>\n",
              "    <tr>\n",
              "      <th>29</th>\n",
              "      <td>1989</td>\n",
              "      <td>123116000</td>\n",
              "    </tr>\n",
              "    <tr>\n",
              "      <th>30</th>\n",
              "      <td>1990</td>\n",
              "      <td>123537000</td>\n",
              "    </tr>\n",
              "    <tr>\n",
              "      <th>31</th>\n",
              "      <td>1991</td>\n",
              "      <td>123921000</td>\n",
              "    </tr>\n",
              "    <tr>\n",
              "      <th>32</th>\n",
              "      <td>1992</td>\n",
              "      <td>124229000</td>\n",
              "    </tr>\n",
              "    <tr>\n",
              "      <th>33</th>\n",
              "      <td>1993</td>\n",
              "      <td>124536000</td>\n",
              "    </tr>\n",
              "    <tr>\n",
              "      <th>34</th>\n",
              "      <td>1994</td>\n",
              "      <td>124961000</td>\n",
              "    </tr>\n",
              "    <tr>\n",
              "      <th>35</th>\n",
              "      <td>1995</td>\n",
              "      <td>125439000</td>\n",
              "    </tr>\n",
              "    <tr>\n",
              "      <th>36</th>\n",
              "      <td>1996</td>\n",
              "      <td>125757000</td>\n",
              "    </tr>\n",
              "    <tr>\n",
              "      <th>37</th>\n",
              "      <td>1997</td>\n",
              "      <td>126057000</td>\n",
              "    </tr>\n",
              "    <tr>\n",
              "      <th>38</th>\n",
              "      <td>1998</td>\n",
              "      <td>126400000</td>\n",
              "    </tr>\n",
              "    <tr>\n",
              "      <th>39</th>\n",
              "      <td>1999</td>\n",
              "      <td>126631000</td>\n",
              "    </tr>\n",
              "    <tr>\n",
              "      <th>40</th>\n",
              "      <td>2000</td>\n",
              "      <td>126843000</td>\n",
              "    </tr>\n",
              "    <tr>\n",
              "      <th>41</th>\n",
              "      <td>2001</td>\n",
              "      <td>127149000</td>\n",
              "    </tr>\n",
              "    <tr>\n",
              "      <th>42</th>\n",
              "      <td>2002</td>\n",
              "      <td>127445000</td>\n",
              "    </tr>\n",
              "    <tr>\n",
              "      <th>43</th>\n",
              "      <td>2003</td>\n",
              "      <td>127718000</td>\n",
              "    </tr>\n",
              "    <tr>\n",
              "      <th>44</th>\n",
              "      <td>2004</td>\n",
              "      <td>127761000</td>\n",
              "    </tr>\n",
              "    <tr>\n",
              "      <th>45</th>\n",
              "      <td>2005</td>\n",
              "      <td>127773000</td>\n",
              "    </tr>\n",
              "    <tr>\n",
              "      <th>46</th>\n",
              "      <td>2006</td>\n",
              "      <td>127854000</td>\n",
              "    </tr>\n",
              "    <tr>\n",
              "      <th>47</th>\n",
              "      <td>2007</td>\n",
              "      <td>128001000</td>\n",
              "    </tr>\n",
              "    <tr>\n",
              "      <th>48</th>\n",
              "      <td>2008</td>\n",
              "      <td>128063000</td>\n",
              "    </tr>\n",
              "    <tr>\n",
              "      <th>49</th>\n",
              "      <td>2009</td>\n",
              "      <td>128047000</td>\n",
              "    </tr>\n",
              "    <tr>\n",
              "      <th>50</th>\n",
              "      <td>2010</td>\n",
              "      <td>128070000</td>\n",
              "    </tr>\n",
              "    <tr>\n",
              "      <th>51</th>\n",
              "      <td>2011</td>\n",
              "      <td>127833000</td>\n",
              "    </tr>\n",
              "    <tr>\n",
              "      <th>52</th>\n",
              "      <td>2012</td>\n",
              "      <td>127629000</td>\n",
              "    </tr>\n",
              "    <tr>\n",
              "      <th>53</th>\n",
              "      <td>2013</td>\n",
              "      <td>127445000</td>\n",
              "    </tr>\n",
              "    <tr>\n",
              "      <th>54</th>\n",
              "      <td>2014</td>\n",
              "      <td>127276000</td>\n",
              "    </tr>\n",
              "    <tr>\n",
              "      <th>55</th>\n",
              "      <td>2015</td>\n",
              "      <td>127141000</td>\n",
              "    </tr>\n",
              "    <tr>\n",
              "      <th>56</th>\n",
              "      <td>2016</td>\n",
              "      <td>126994511</td>\n",
              "    </tr>\n",
              "    <tr>\n",
              "      <th>57</th>\n",
              "      <td>2017</td>\n",
              "      <td>126785797</td>\n",
              "    </tr>\n",
              "    <tr>\n",
              "      <th>58</th>\n",
              "      <td>2018</td>\n",
              "      <td>126529100</td>\n",
              "    </tr>\n",
              "    <tr>\n",
              "      <th>59</th>\n",
              "      <td>2019</td>\n",
              "      <td>126264931</td>\n",
              "    </tr>\n",
              "  </tbody>\n",
              "</table>\n",
              "</div>"
            ],
            "text/plain": [
              "    year  population\n",
              "0   1960    92500572\n",
              "1   1961    94943000\n",
              "2   1962    95832000\n",
              "3   1963    96812000\n",
              "4   1964    97826000\n",
              "5   1965    98883000\n",
              "6   1966    99790000\n",
              "7   1967   100725000\n",
              "8   1968   101061000\n",
              "9   1969   103172000\n",
              "10  1970   104345000\n",
              "11  1971   105697000\n",
              "12  1972   107188000\n",
              "13  1973   108079000\n",
              "14  1974   110162000\n",
              "15  1975   111940000\n",
              "16  1976   112771000\n",
              "17  1977   113863000\n",
              "18  1978   114898000\n",
              "19  1979   115870000\n",
              "20  1980   116782000\n",
              "21  1981   117648000\n",
              "22  1982   118449000\n",
              "23  1983   119259000\n",
              "24  1984   120018000\n",
              "25  1985   120754000\n",
              "26  1986   121492000\n",
              "27  1987   122091000\n",
              "28  1988   122613000\n",
              "29  1989   123116000\n",
              "30  1990   123537000\n",
              "31  1991   123921000\n",
              "32  1992   124229000\n",
              "33  1993   124536000\n",
              "34  1994   124961000\n",
              "35  1995   125439000\n",
              "36  1996   125757000\n",
              "37  1997   126057000\n",
              "38  1998   126400000\n",
              "39  1999   126631000\n",
              "40  2000   126843000\n",
              "41  2001   127149000\n",
              "42  2002   127445000\n",
              "43  2003   127718000\n",
              "44  2004   127761000\n",
              "45  2005   127773000\n",
              "46  2006   127854000\n",
              "47  2007   128001000\n",
              "48  2008   128063000\n",
              "49  2009   128047000\n",
              "50  2010   128070000\n",
              "51  2011   127833000\n",
              "52  2012   127629000\n",
              "53  2013   127445000\n",
              "54  2014   127276000\n",
              "55  2015   127141000\n",
              "56  2016   126994511\n",
              "57  2017   126785797\n",
              "58  2018   126529100\n",
              "59  2019   126264931"
            ]
          },
          "metadata": {},
          "execution_count": 38
        }
      ]
    },
    {
      "cell_type": "code",
      "metadata": {
        "colab": {
          "base_uri": "https://localhost:8080/",
          "height": 294
        },
        "id": "vHwVtxDlV2HZ",
        "outputId": "8246a732-06a0-47a0-eeea-5924ff540459"
      },
      "source": [
        "plt.plot(df_info[\"year\"],df_info[\"population\"],label=\"population\")\n",
        "plt.legend()"
      ],
      "execution_count": null,
      "outputs": [
        {
          "output_type": "execute_result",
          "data": {
            "text/plain": [
              "<matplotlib.legend.Legend at 0x7facc0eab7d0>"
            ]
          },
          "metadata": {},
          "execution_count": 39
        },
        {
          "output_type": "display_data",
          "data": {
            "image/png": "[encoded data removed]",
            "text/plain": [
              "<Figure size 432x288 with 1 Axes>"
            ]
          },
          "metadata": {
            "needs_background": "light"
          }
        }
      ]
    },
    {
      "cell_type": "markdown",
      "metadata": {
        "id": "rxn0G3L7X3nH"
      },
      "source": [
        "いま、人口の変化は、人が生まれること、死ぬことにのみ依存するとする。\n",
        "時刻$t$の人口$N(t)$とすると、生まれた人数$=\\alpha N \\Delta t$、亡くなった人数$=\\beta N \\Delta t$\n",
        "である。なぜなら、$0$から人は生まれないし、死亡するのは今生きている人に限られるため。\n",
        "したがって、時間区間$\\Delta t$における正味の人口変化$\\Delta N=N(t+\\Delta t) - N(t)$は\n",
        "$$\\Delta N = \\alpha N \\Delta t - \\beta N \\Delta t$$\n",
        "$$=(\\alpha - \\beta)N\\Delta t = \\gamma N \\Delta t$$\n",
        "したがって、\n",
        "$$\\frac{\\Delta N}{\\Delta t}=\\gamma N$$\n",
        "$\\Delta t\\rightarrow 0$\n",
        "$$\\frac{dN}{dt} = \\gamma N$$"
      ]
    },
    {
      "cell_type": "markdown",
      "metadata": {
        "id": "gXGmJbNsaJWU"
      },
      "source": [
        "この式は、簡単に解くことができ、$N(t_0)=N_0$ at time $t=t_0$とすると\n",
        "$$N(t)=N_0 \\exp(\\gamma (t-t_0))$$\n",
        "人口動態は、モデル定数$\\gamma$の符号に依存する。\n",
        "$\\gamma > 0$なら人口は増加（指数関数）、$\\gamma = 0 $なら変化なし、$\\gamma < 0$なら人口は減少することを示す。"
      ]
    },
    {
      "cell_type": "markdown",
      "metadata": {
        "id": "reL5jE--azuE"
      },
      "source": [
        "具体的に解の意味を考察しよう。人口データの最初の年$t=1960$年に、$N(1960)=92500572$、次の年$t=1961$年においては、$N(1961)=94943000$であった。ここから、\n",
        "$$\\frac{N(1961)}{N(1960)}=\\frac{94943000}{92500572}=\\exp(\\gamma)$$\n",
        "が得られる。\n",
        "両辺対数を取ることにより、$\\gamma = 0.0260618832454646$となる。（下記の式を実行して、確かめてください）"
      ]
    },
    {
      "cell_type": "code",
      "metadata": {
        "colab": {
          "base_uri": "https://localhost:8080/"
        },
        "id": "fQowjRMsaI1_",
        "outputId": "75067b4a-bae8-42be-b711-fafba6dc03dd"
      },
      "source": [
        "g = math.log(94943000/92500572)\n",
        "print(g)"
      ],
      "execution_count": null,
      "outputs": [
        {
          "output_type": "stream",
          "name": "stdout",
          "text": [
            "0.0260618832454646\n"
          ]
        }
      ]
    },
    {
      "cell_type": "markdown",
      "metadata": {
        "id": "v82vJTOgeMah"
      },
      "source": [
        "では、この予測式を使って、人口動態の予測結果と実際の人口変化を比較しよう"
      ]
    },
    {
      "cell_type": "code",
      "metadata": {
        "id": "0YrAu8-id5wT"
      },
      "source": [
        "num=2019-1960+1\n",
        "p=np.zeros(num)\n",
        "p[0]=92500572\n",
        "for t in range(1,num):\n",
        "  p[t]=p[0]*math.exp(g*t)"
      ],
      "execution_count": null,
      "outputs": []
    },
    {
      "cell_type": "code",
      "metadata": {
        "colab": {
          "base_uri": "https://localhost:8080/",
          "height": 294
        },
        "id": "btCi9O6CeZ_a",
        "outputId": "4591ab50-9dcb-4ee6-baac-7576eee986c1"
      },
      "source": [
        "plt.plot(df_info[\"year\"],df_info[\"population\"],label=\"population\")\n",
        "plt.plot(df_info[\"year\"],p,label=\"prediction\")\n",
        "plt.legend()"
      ],
      "execution_count": null,
      "outputs": [
        {
          "output_type": "execute_result",
          "data": {
            "text/plain": [
              "<matplotlib.legend.Legend at 0x7facc0d84a90>"
            ]
          },
          "metadata": {},
          "execution_count": 42
        },
        {
          "output_type": "display_data",
          "data": {
            "image/png": "[encoded data removed]",
            "text/plain": [
              "<Figure size 432x288 with 1 Axes>"
            ]
          },
          "metadata": {
            "needs_background": "light"
          }
        }
      ]
    },
    {
      "cell_type": "markdown",
      "metadata": {
        "id": "TaXQJFELhbaq"
      },
      "source": [
        "予測値は、徐々に実際と乖離し、1967年に誤差10％を超えている。何がいけなかったのだろうか？\n",
        "ここでは、初期の1年間から$\\gamma$を求めたのが原因と考え、1965年との差から$\\gamma$を求めなおそう"
      ]
    },
    {
      "cell_type": "code",
      "metadata": {
        "colab": {
          "base_uri": "https://localhost:8080/"
        },
        "id": "LiFHzgEJe-OY",
        "outputId": "9ba92593-67e7-4ff6-e253-9314089cb8c5"
      },
      "source": [
        "g = math.log(98883000/92500572)/5\n",
        "print(g)"
      ],
      "execution_count": null,
      "outputs": [
        {
          "output_type": "stream",
          "name": "stdout",
          "text": [
            "0.013344500954383881\n"
          ]
        }
      ]
    },
    {
      "cell_type": "code",
      "metadata": {
        "colab": {
          "base_uri": "https://localhost:8080/",
          "height": 294
        },
        "id": "PHKOWOGZiJuF",
        "outputId": "f13d1077-feea-437c-d508-158fe239437b"
      },
      "source": [
        "num=2019-1960+1\n",
        "p=np.zeros(num)\n",
        "p[0]=92500572\n",
        "for t in range(1,num):\n",
        "  p[t]=p[0]*math.exp(g*t)\n",
        "\n",
        "plt.plot(df_info[\"year\"],df_info[\"population\"],label=\"population\")\n",
        "plt.plot(df_info[\"year\"],p,label=\"prediction\")\n",
        "plt.legend()"
      ],
      "execution_count": null,
      "outputs": [
        {
          "output_type": "execute_result",
          "data": {
            "text/plain": [
              "<matplotlib.legend.Legend at 0x7facc0d06d90>"
            ]
          },
          "metadata": {},
          "execution_count": 44
        },
        {
          "output_type": "display_data",
          "data": {
            "image/png": "[encoded data removed]",
            "text/plain": [
              "<Figure size 432x288 with 1 Axes>"
            ]
          },
          "metadata": {
            "needs_background": "light"
          }
        }
      ]
    },
    {
      "cell_type": "markdown",
      "metadata": {
        "id": "2Ds-k8jWiYR-"
      },
      "source": [
        "予測精度が上がったことが分かるだろう。10％の誤差を超えるのは、1989年となっている。\n"
      ]
    },
    {
      "cell_type": "markdown",
      "metadata": {
        "id": "1S_BTqRGirFu"
      },
      "source": [
        "##**数理モデルの変更**\n",
        "$\\gamma$の値の決定において、1年分、5年分のデータを用い、予測制度が変わることから、10年分、20年分を用いれば、さらに精度が上がるだろうか？\n",
        "1990年以降の実際の人口動態を観察すると、徐々に人口増加率が減少している。これは指数関数的な増加には見られないことから、数理モデルが捉えられていない現象が人工動態に隠されていると考えられる。"
      ]
    },
    {
      "cell_type": "markdown",
      "metadata": {
        "id": "vOUaPV2njz5J"
      },
      "source": [
        "**人口増加の抑制効果（過密効果／環境収容力）**\n",
        "人口増加に伴い、社会基盤や土地、就労機会など、資源配分を巡る競争が直接・間接的に増加すると考えられる。そこで、生活する環境には、このような“資源”に限りがあり、その資源に対する人口上限があると考えよう。"
      ]
    },
    {
      "cell_type": "markdown",
      "metadata": {
        "id": "5PqKZWzBl465"
      },
      "source": [
        "これを次のようにモデル化する。\n",
        "資源競争のない状況での人口増加率を$\\gamma > 0$とする。人口上限$N_\\infty$に対しての余力が人口増加係数を決め、それを$\\gamma (1-\\frac{N}{N_\\infty})$と表す。\n",
        "人口動態を表す式は、先の微分方程式において、$\\gamma\\rightarrow\\gamma (1-\\frac{N}{N_\\infty})$と変更した以下の式であらわされる\n",
        "$$\\frac{dN}{dt} = \\gamma (1-\\frac{N}{N_\\infty})N$$\n",
        "この式は、簡単に解くことができ、解は次式となる。\n",
        "$$N(t)=\\frac{N_\\infty}{1+(N_\\infty/N_0-1)\\exp(-\\gamma (t-t_0))}$$\n",
        "\n",
        "$N_\\infty=130528280$、$\\gamma=0.0609505$として予測式と人口動態の比較をグラフに示す。"
      ]
    },
    {
      "cell_type": "code",
      "metadata": {
        "colab": {
          "base_uri": "https://localhost:8080/",
          "height": 294
        },
        "id": "CETKCJwxjpUC",
        "outputId": "6f53bace-1878-44b5-b5bb-249802784696"
      },
      "source": [
        "N_inf = 130528280\n",
        "g=0.0609505\n",
        "p[0]=92500572\n",
        "for t in range(1,num):\n",
        "  p[t]=N_inf/(1+(N_inf/p[0]-1)*math.exp(-g*t))\n",
        "plt.plot(df_info[\"year\"],df_info[\"population\"],label=\"population\")\n",
        "plt.plot(df_info[\"year\"],p,label=\"prediction\")\n",
        "plt.legend()  "
      ],
      "execution_count": null,
      "outputs": [
        {
          "output_type": "execute_result",
          "data": {
            "text/plain": [
              "<matplotlib.legend.Legend at 0x7facc0b96050>"
            ]
          },
          "metadata": {},
          "execution_count": 47
        },
        {
          "output_type": "display_data",
          "data": {
            "image/png": "[encoded data removed]",
            "text/plain": [
              "<Figure size 432x288 with 1 Axes>"
            ]
          },
          "metadata": {
            "needs_background": "light"
          }
        }
      ]
    },
    {
      "cell_type": "markdown",
      "metadata": {
        "id": "3TwDo6__qxKw"
      },
      "source": [
        "このように、人口増加による人口増加率の抑制効果を取り入れると、より現実のデータが示す性質を表現できる。"
      ]
    },
    {
      "cell_type": "markdown",
      "metadata": {
        "id": "RufE5liouxuq"
      },
      "source": [
        "しかしながら、これをもって「資源配分の競争が人工増加を抑える」と結論できるわけではなく、現時点では、あくまで、予測式が使い物になりそうだ、ということだけがいえる。メカニズムとして立証するには、資源配分の競争を変化させるような社会実験を計画し($N_\\infty$を変える)、実施前に予測をしておいて、社会実験後の結果を評価することで、初めて判断が可能になる。そして、さらに大事なことであるが、この数理モデルは、$N_\\infty$がどのように決まるのかについては何も答えをださない。それには別のモデルが必要になる。"
      ]
    }
  ]
}
