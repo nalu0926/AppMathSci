{
  "nbformat": 4,
  "nbformat_minor": 0,
  "metadata": {
    "colab": {
      "name": "応用数理(2021.11.15).ipynb",
      "provenance": [],
      "collapsed_sections": [],
      "toc_visible": true,
      "authorship_tag": "ABX9TyPEYHRCq0nGe3+xnir5yHLX",
      "include_colab_link": true
    },
    "kernelspec": {
      "name": "python3",
      "display_name": "Python 3"
    },
    "language_info": {
      "name": "python"
    }
  },
  "cells": [
    {
      "cell_type": "markdown",
      "metadata": {
        "id": "view-in-github",
        "colab_type": "text"
      },
      "source": [
        "<a href=\"https://colab.research.google.com/github/yasuhiroinoue/AppMathSci/blob/main/%E5%BF%9C%E7%94%A8%E6%95%B0%E7%90%86(2021_11_15).ipynb\" target=\"_parent\"><img src=\"https://colab.research.google.com/assets/colab-badge.svg\" alt=\"Open In Colab\"/></a>"
      ]
    },
    {
      "cell_type": "markdown",
      "metadata": {
        "id": "44KE92FVCI6G"
      },
      "source": [
        "##**応用数理科学(第7回)**\n",
        "前回の講義では、最尤法を学び、対数尤度がモデルの良さを表すことを見てきた。\n",
        "モデル選択には、将来に得られるデータも含めた平均対数尤度を用いるのが良さそうであるが、最尤モデルで得られる最大対数尤度とはズレがあること、そのズレは、モデルの自由パラメータの数となりそう、ということを数値実験で確認した。\n",
        "今回は、最尤モデルの平均対数尤度と最大対数尤度との関係式を理論的に導出することで、モデル選択の評価指標の１つ、AICを理解しよう。"
      ]
    },
    {
      "cell_type": "markdown",
      "metadata": {
        "id": "Q_fhxw8DiM8d"
      },
      "source": [
        "##**AIC (Akaike Information Criterion)**#\n",
        "最大対数尤度$\\log L$、自由パラメータの数$k$とし\n",
        "$$AIC = -2\\log L + 2k$$\n",
        "を定義する。\n",
        "先の数値実験で得られた関係式を$-2$倍した式となる。\n",
        "したがって、AICが最小となるモデルを選択すれば、多くの場合、良いモデル選択となる。\n",
        "AICを**赤池情報量基準(Akaike Information Criterion）**という。\n",
        "\n",
        "特に、例(正規分布)で示したように、誤差が正規分布のときには、分散の最尤推定量$\\hat \\sigma^2$を用いて\n",
        "$$AIC = n\\log{2\\pi\\hat\\sigma^2}+n+2k\\tag{3}$$\n",
        "となる。\n",
        "\n",
        "注意点として、数値実験で行ったような1次元の多項式回帰モデルを作るときには、$m$次の多項式なら、$(m+1)$個の係数がある。加えて、分散も最尤推定量になるので$+1$個となり、自由パラメータの数$k=m+2$となる。（数値実験では分散に真値を与えていたので$k=m+1$）\n",
        "\n",
        "では、以下に、AICの導出を理論的に見てみよう。\n",
        "\n"
      ]
    },
    {
      "cell_type": "markdown",
      "metadata": {
        "id": "yXXyWLPPrtE9"
      },
      "source": [
        "##**準備1**##\n",
        "**フィッシャー情報量**（フィッシャー情報行列）\n",
        "\n",
        "確率変数$X$は確率密度関数$f(x,\\theta^*)$に従うとする。\n",
        "このとき、フィッシャー情報量$I$を\n",
        "$$I=E[(\\frac{\\partial}{\\partial \\theta}\\log f(X,\\theta^*))^2]$$\n",
        "と定義する。$\\log f$が2階微分可能なら\n",
        "$$I=-E[\\frac{\\partial^2}{\\partial \\theta^2}\\log f(X,\\theta^*)]$$\n",
        "と表すことができる。\n",
        "\n",
        "母数$\\theta=(\\theta_1,\\cdots,\\theta_n)$の$N$次ベクトルなら、$I$は$N \\times N$行列となり、フィッシャー情報行列という。その要素は\n",
        "$$I_{ij}=E[\\frac{\\partial}{\\partial \\theta_i}\\log f(X,\\theta^*)\\frac{\\partial}{\\partial \\theta_j}\\log f(X,\\theta^*)]$$であり、同様に\n",
        "$$I_{ij}=-E[\\frac{\\partial^2}{\\partial \\theta_i\\partial\\theta_j}\\log f(X,\\theta^*)] $$\n",
        "である。\n",
        "\n",
        "**例（正規分布）**\n",
        "\n",
        "$\\theta=(\\mu, \\sigma^2)$とおく。フィッシャー情報行列は\n",
        "$$\n",
        "I=\\left(\n",
        "\\begin{align}\n",
        "& \\frac{n}{\\sigma^2} & 0 \\\\\n",
        "& 0 & \\frac{n}{2\\sigma^4}\n",
        "\\end{align}\n",
        "\\right )\n",
        "$$\n",
        "となる"
      ]
    },
    {
      "cell_type": "markdown",
      "metadata": {
        "id": "yz-WUliZrSgd"
      },
      "source": [
        "####**解説**####\n",
        "$\\int f(x,\\theta) dx = 1$の両辺を$\\theta$について微分する。\n",
        "$$\n",
        "  \\begin{align}\n",
        "   0 &=& \\int \\frac{\\partial}{\\partial \\theta}f(x,\\theta)dx\\\\\n",
        "     &=& \\int f(x,\\theta)\\frac{\\partial}{\\partial \\theta}\\log f(x,\\theta)dx\\\\\n",
        "     &=& E[\\frac{\\partial}{\\partial \\theta}\\log f(X,\\theta)]\n",
        "  \\end{align}\n",
        "$$\n",
        "次に、もう1度微分して\n",
        "$$\n",
        "  \\begin{align}\n",
        "   0 &=& \\frac{\\partial}{\\partial \\theta}\\int f(x,\\theta)\\frac{\\partial}{\\partial \\theta}\\log f(x,\\theta)dx\\\\\n",
        "   &=& \\int \\frac{\\partial f(x,\\theta)}{\\partial \\theta}\\frac{\\partial}{\\partial \\theta}\\log f(x,\\theta)dx + \\int f(x,\\theta)\\frac{\\partial^2}{\\partial \\theta^2}\\log f(x,\\theta)\\\\\n",
        "   &=& \\int f(x,\\theta)(\\frac{\\partial}{\\partial \\theta}\\log f(x,\\theta))^2dx\n",
        "+\\int f(x,\\theta)\\frac{\\partial^2}{\\partial \\theta^2}\\log f(x,\\theta)\\\\\n",
        "&=& I + E[\\frac{\\partial^2}{\\partial \\theta^2}\\log f(X,\\theta)]\n",
        "  \\end{align}\n",
        "$$\n",
        "となり、$I=-E[\\frac{\\partial^2}{\\partial \\theta^2}\\log f(X,\\theta^*)]$"
      ]
    },
    {
      "cell_type": "markdown",
      "metadata": {
        "id": "70aFRbyVrXH9"
      },
      "source": [
        "##**準備2**##\n",
        "**中心極限定理**\n",
        "\n",
        "確率変数$X$は平均$0$で分散$\\sigma^2$の正規分布に従うものとする。独立な確率変数$X_1,\\cdots, X_n$が、$X$と同じ分布に従うとき、\n",
        "$$Z_n = \\frac{1}{\\sqrt{n}}\\sum_{i=1}^nX_i$$\n",
        "は平均$0$で分散$\\sigma^2$の正規分布に従う確率変数$Z$に法則収束する\n",
        "$$\\lim_{n\\rightarrow\\infty}E[f(\\frac{1}{\\sqrt{n}}\\sum_{i=1}^nX_i)]=E[f(Z)]$$\n"
      ]
    },
    {
      "cell_type": "markdown",
      "metadata": {
        "id": "K0b1cYKkvMFb"
      },
      "source": [
        "##**準備3**##\n",
        "尤度方程式から、$\\theta=\\hat \\theta$のとき、\n",
        "$$\\left[\\frac{\\partial \\log L}{\\partial \\theta}\\right]_{\\theta=\\hat\\theta}=0$$\n",
        "である。この式を真の値$\\theta^*$の周りでテイラー展開する。\n",
        "$$\\sum_{i=1}^n[\\frac{\\partial}{\\partial \\theta}\\log f(X_i,\\theta)]_{\\theta=\\theta*}+(\\hat \\theta - \\theta^*)\\sum_{i=1}^n[\\frac{\\partial^2}{\\partial \\theta^2}\\log f(X_i,\\theta)]_{\\theta=\\theta*}=0$$\n",
        "\n",
        "$n$が大きくなると、$\\hat \\theta\\rightarrow\\theta^*$であるので、\n",
        "$$\\lim_{n\\rightarrow\\infty}\\frac{1}{n}\\sum_{i=1}^n[\\frac{\\partial^2}{\\partial \\theta^2}\\log f(X_i,\\theta)]_{\\theta=\\theta*}= -I$$\n",
        "したがって、\n",
        "$$\\frac{1}{\\sqrt{n}}\\sum_{i=1}^n[\\frac{\\partial}{\\partial \\theta}\\log f(X_i,\\theta)]_{\\theta=\\theta*}=\\sqrt{n}(\\hat \\theta - \\theta^*)\\sum_{i=1}^n-\\frac{1}{n}[\\frac{\\partial^2}{\\partial \\theta^2}\\log f(X_i,\\theta)]_{\\theta=\\theta*}\\rightarrow \\sqrt{n}(\\hat \\theta - \\theta^*)I$$"
      ]
    },
    {
      "cell_type": "markdown",
      "metadata": {
        "id": "ngz1jgAwrY-N"
      },
      "source": [
        "##**準備4**##\n",
        "$\\sqrt{n}(\\hat \\theta - \\theta^*)$は、$n\\rightarrow\\infty$で正規分布$N(0,I^{-1})$に従う。\n",
        "$$\\sqrt{n}(\\hat \\theta - \\theta^*) \\sim N(0,I^{-1})$$\n"
      ]
    },
    {
      "cell_type": "markdown",
      "metadata": {
        "id": "1rZFItjJsq4x"
      },
      "source": [
        "**解説**\n",
        "$$Z_n=\\frac{1}{\\sqrt{n}}\\sum_{i=1}^n\\frac{\\partial}{\\partial \\theta}\\log f(X_i,\\theta^*)$$\n",
        "とおく。準備1より\n",
        "$$E[\\frac{\\partial}{\\partial \\theta}\\log f(X_i,\\theta^*)]=0$$であるので、\n",
        "$$V[\\frac{\\partial}{\\partial \\theta}\\log f(X_i,\\theta^*)]=E[(\\frac{\\partial}{\\partial \\theta}\\log f(X,\\theta^*))^2]=I$$\n",
        "ここで、$V[\\cdot]$は分散の計算を表す。\n",
        "\n",
        "準備2より、$n\\rightarrow\\infty$のとき、$Z_n$は、平均$0$、分散$I$の正規分布に従う確率変数$Z$に収束する。\n",
        "$$Z\\sim N(0,I)$$\n",
        "さらに、準備3より、$n\\rightarrow\\infty$のとき、$Z_n\\rightarrow \\sqrt{n}(\\hat \\theta - \\theta^*)I$であるので、\n",
        "$$\\sqrt{n}(\\hat \\theta - \\theta^*)I \\sim N(0,I)$$\n",
        "したがって、\n",
        "$$\\frac{Z}{I}\\sim N(0,\\frac{I}{I^2})=N(0,I^{-1})$$\n",
        "より、\n",
        "$$\\sqrt{n}(\\hat \\theta - \\theta^*)\\sim N(0,I^{-1})$$"
      ]
    },
    {
      "cell_type": "markdown",
      "metadata": {
        "id": "7gFz2Ybch1T_"
      },
      "source": [
        "##**準備5**##\n",
        "**カイ2乗分布**\n",
        "\n",
        "$X_1, \\cdots, X_k$が互いに独立に正規分布$N(0,1)$に従うとする。このとき、新しい変数$\\chi^2_k$をベクトル$X=(X_1,\\cdots,X_k)$のノルムの2乗で定義する。\n",
        "$$\\chi^2_k=||X||^2=X^TX$$\n",
        "$\\chi^2_k$は非負値の確率変数となり、$\\chi^2_k$の従う分布$f(\\chi^2_k)$を自由度$k$の[カイ2乗分布](https://ja.wikipedia.org/wiki/%E3%82%AB%E3%82%A4%E4%BA%8C%E4%B9%97%E5%88%86%E5%B8%83)という。$\\chi^2_k$の期待値は\n",
        "$$\\int_0^\\infty\\chi^2_kf(\\chi^2_k)d\\chi^2_k=k$$\n",
        "となり、自由度と等しい。\n",
        "\n",
        "$k$次元の平均ベクトル$\\mu$、共分散行列$\\Sigma$としたとき、$X\\sim N(\\mu, \\Sigma)$を考える。\n",
        "共分散行列は、正定値対称行列なので下三角行列$L$とその転置行列に分解（[コレスキー分解](https://ja.wikipedia.org/wiki/%E3%82%B3%E3%83%AC%E3%82%B9%E3%82%AD%E3%83%BC%E5%88%86%E8%A7%A3)）でき、\n",
        "$$\\Sigma = LL^T$$\n",
        "となる。\n",
        "$Y=L^{-1}(X-\\mu)$とすると\n",
        "$$||Y||^2=(X-\\mu)^T\\Sigma^{-1}(X-\\mu)$$\n",
        "は、自由度$k$のカイ2乗分布に従う。\n",
        "\n",
        "**解説**\n",
        "カイ2乗分布の確率密度関数は\n",
        "$$\n",
        "f(\\chi^2_k) = \\frac{1}{2^{\\frac{k}{2}}\\Gamma (\\frac{1}{2})}(\\chi_k^2)^{\\frac{k}{2}-1}\\exp(-\\frac{\\chi^2_k}{2})\n",
        "$$\n",
        "である。\n",
        "\n",
        "いま、実数パラメータ$a>0$を用いて、$\\chi_k^2=ay$とおく。\n",
        "確率の規格化条件より、変数を置き換えても\n",
        "$$\n",
        "\\int_0^\\infty f(ay) d(ay) = 1\n",
        "$$\n",
        "である。\n",
        "具体的には\n",
        "$$\n",
        "a^{\\frac{k}{2}}\\int_0^\\infty \\frac{1}{2^{\\frac{k}{2}}\\Gamma (\\frac{1}{2})}y^{\\frac{k}{2}-1}\\exp(-\\frac{ay}{2}) dy = 1\n",
        "$$\n",
        "である。$d(ay)=ady$とした。次に、パラメータ$a$を変数とみなして、両辺を微分すると、\n",
        "$$\n",
        "\\frac{k}{2}a^{-1}-\\frac{a^{\\frac{k}{2}}}{2}\\int_0^\\infty \\frac{y}{2^{\\frac{k}{2}}\\Gamma (\\frac{1}{2})}y^{\\frac{k}{2}-1}\\exp(-\\frac{ay}{2}) dy=0\n",
        "$$\n",
        "$a=1$を代入して整理すると\n",
        "$$\n",
        "\\int_0^\\infty \\frac{y}{2^{\\frac{k}{2}}\\Gamma (\\frac{1}{2})}y^{\\frac{k}{2}-1}\\exp(-\\frac{y}{2}) dy = k\n",
        "$$\n",
        "左辺は$E[\\chi_k^2]$であるので、カイ2乗の期待値は\n",
        "$$E[\\chi_k^2]=k$$\n",
        "となる。\n",
        "\n",
        "規格化条件の式で両辺を$a$で二階微分してから$a=1$を代入すると\n",
        "$$\n",
        "E[(\\chi_k^2)^2]=k(k+2)\n",
        "$$\n",
        "が得られる。これより、分散は\n",
        "$$\n",
        "V[\\chi_k^2]=E[(\\chi_k^2)^2] - (E[\\chi_k^2])^2=2k\n",
        "$$\n",
        "となる。"
      ]
    },
    {
      "cell_type": "markdown",
      "metadata": {
        "id": "03j6Z1oCo4Jw"
      },
      "source": [
        "##**AICの導出**##\n",
        "最尤モデルの平均対数尤度の$n$倍\n",
        "$$l^*(\\hat\\theta_k):=nE_Z[\\log f(Z|\\hat \\theta_k)]$$\n",
        "を真の値$\\theta^*$の周りでテーラー展開すると\n",
        "$$l^*(\\hat\\theta_k)=l^*(\\theta^*)+n(\\hat\\theta_k-\\theta^*)^TE_Z\\left[\\frac{\\partial}{\\partial \\theta}\\log f(Z|\\theta)\\right]_{\\theta=\\theta^*}+\\frac{1}{2}n(\\hat\\theta_k-\\theta^*)^TE_Z\\left[\\left(\\frac{\\partial}{\\partial\\theta}\\log f(Z|\\theta)\\right)\\left(\\frac{\\partial}{\\partial \\theta}\\log f(Z|\\theta)\\right )^T\\right]_{\\theta=\\theta^*}(\\hat\\theta_k - \\theta^*) $$\n",
        "となる。ここでは、列ベクトル標準で表示している。\n",
        "\n",
        "準備1より、1階微分項の期待値は$0$であり、2階微分項はフィッシャー情報行列$I\\times-1$となる。\n",
        "したがって、\n",
        "$$\n",
        "l^*(\\hat\\theta_k)=l^*(\\theta^*)-\\frac{1}{2}\\sqrt{n}(\\hat\\theta_k - \\theta^*)^TI\\sqrt{n}(\\hat\\theta_k - \\theta^*)\n",
        "$$\n",
        "が得られる。$n\\rightarrow\\infty$のもとでは、準備4より、右辺第2項に現れている\n",
        "$$\n",
        "\\sqrt{n}(\\hat\\theta_k - \\theta^*)\\sim N(0,I^{-1})\n",
        "$$\n",
        "となる。したがって、右辺の第2項は、$n\\rightarrow\\infty$のもとでは、準備5より自由度$k$のカイ2乗分布に従う。\n",
        "真の分布で期待値を取ることで\n",
        "$$\n",
        "E_X[l^*(\\hat\\theta_k)]=l^*(\\theta^*)-\\frac{n}{2}E_X[\\sqrt{n}(\\hat\\theta_k - \\theta^*)^TI\\sqrt{n}(\\hat\\theta_k - \\theta^*)]=l^*(\\theta^*)-\\frac{k}{2}\\tag{1}\n",
        "$$\n",
        "を得る。\n",
        "\n",
        "次に、対数尤度\n",
        "$\n",
        "l(\\theta)=\\sum_{i=1}^n\\log f(x_i|\\theta)\n",
        "$\n",
        "を最尤推定量$\\hat\\theta_k$の周りでテーラー展開する。\n",
        "$$\n",
        "l(\\theta) = l(\\hat\\theta_k) + (\\theta-\\hat\\theta_k)^T\\left[\\frac{\\partial l}{\\partial \\theta}\\right]_{\\theta=\\hat\\theta_k}+\n",
        "\\frac{1}{2}(\\theta-\\hat\\theta_k)^T\\left[\\left(\\frac{\\partial l}{\\partial \\theta}\\right)\\left(\\frac{\\partial l}{\\partial \\theta}\\right)^T\\right]_{\\theta=\\theta_k}(\\theta-\\hat\\theta_k)\\\\\n",
        "=l(\\hat\\theta_k) + n(\\theta-\\hat\\theta_k)^T\\left[\\frac{1}{n}\\frac{\\partial l}{\\partial \\theta}\\right]_{\\theta=\\hat\\theta_k}+\n",
        "\\frac{1}{2}\\sqrt{n}(\\theta-\\hat\\theta_k)^T\\left[\\frac{1}{n}\\left(\\frac{\\partial l}{\\partial \\theta}\\right)\\left(\\frac{\\partial l}{\\partial \\theta}\\right)^T\\right]_{\\theta=\\theta_k}\\sqrt{n}(\\theta-\\hat\\theta_k)\n",
        "$$\n",
        "2段目に移るときに、$n\\times1/n=1$の恒等式を挟みこんでいる。$n\\rightarrow\\infty$のもとでは、右辺第2項目は$0$、第3項目は$-I$に近づく。\n",
        "$\\theta=\\theta^*$を代入し、\n",
        "$$\n",
        "l(\\theta^*) = l(\\hat\\theta_k) - \\frac{1}{2}\\sqrt{n}(\\theta^*-\\hat\\theta_k)^TI\\sqrt{n}(\\theta^*-\\hat\\theta_k)\n",
        "$$\n",
        "真の分布で期待値を取ることにより\n",
        "$$\n",
        "l(\\theta^*) = E_X[l(\\hat\\theta_k)] - \\frac{k}{2}\\tag{2}\n",
        "$$\n",
        "式(1),(2)より\n",
        "$$\n",
        "E_X[l^*(\\hat\\theta_k)]=E_X[l(\\hat\\theta_k)]-k \\tag{3}\n",
        "$$\n",
        "となる。\n",
        "\n",
        "式(3)の左辺が最尤モデルの平均対数尤度の期待値、その不偏推定量として、右辺は最大対数尤度の期待値から自由パラメータの数$k$だけ引いたものが対応することを示している。\n",
        "これが前回の数値実験で見た結果を裏付ける関係式である。\n",
        "そこで、モデル選択の評価指標として、式(3)を$-2$倍して\n",
        "$$\n",
        "AIC := -2l(\\hat\\theta_k)+2k\n",
        "$$\n",
        "と定義する。"
      ]
    },
    {
      "cell_type": "markdown",
      "metadata": {
        "id": "qFemHcX9TgTM"
      },
      "source": [
        "##**演習**##\n",
        "1980年～2018年までの日本の年間CO2排出量の年次推移を数式で表現し、パラメータ値を最尤推定しなさい。モデル選択には情報量基準を用いること。\n",
        "\n",
        "データはDataCommonsから取得できる。\n",
        "https://datacommons.org/place/country/JPN?topic=Climate&hl=ja"
      ]
    }
  ]
}