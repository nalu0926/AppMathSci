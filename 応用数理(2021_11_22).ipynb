{
  "nbformat": 4,
  "nbformat_minor": 0,
  "metadata": {
    "colab": {
      "name": "応用数理(2021.11.22).ipynb",
      "provenance": [],
      "collapsed_sections": [],
      "authorship_tag": "ABX9TyPdEDCgMTSXL6hVjJVH4JjJ",
      "include_colab_link": true
    },
    "kernelspec": {
      "name": "python3",
      "display_name": "Python 3"
    },
    "language_info": {
      "name": "python"
    }
  },
  "cells": [
    {
      "cell_type": "markdown",
      "metadata": {
        "id": "view-in-github",
        "colab_type": "text"
      },
      "source": [
        "<a href=\"https://colab.research.google.com/github/yasuhiroinoue/AppMathSci/blob/main/%E5%BF%9C%E7%94%A8%E6%95%B0%E7%90%86(2021_11_22).ipynb\" target=\"_parent\"><img src=\"https://colab.research.google.com/assets/colab-badge.svg\" alt=\"Open In Colab\"/></a>"
      ]
    },
    {
      "cell_type": "markdown",
      "metadata": {
        "id": "KDXPoRdcvyR1"
      },
      "source": [
        "##**応用数理科学（第8回）**##\n",
        "今回から数回にわたり、時系列解析を学んでいこう。\n",
        "自己回帰型モデル、状態推定モデルのいくつか有名なモデルを解説する。"
      ]
    },
    {
      "cell_type": "markdown",
      "metadata": {
        "id": "9HvCLlsd0Xex"
      },
      "source": [
        "AR, MA, ARMA, ARIMA\n",
        "執筆中"
      ]
    }
  ]
}