{
  "nbformat": 4,
  "nbformat_minor": 0,
  "metadata": {
    "colab": {
      "name": "応用数理(2022.01.24).ipynb",
      "provenance": [],
      "collapsed_sections": [],
      "authorship_tag": "ABX9TyN0v6nHZm/9AlUlncPN7jZg",
      "include_colab_link": true
    },
    "kernelspec": {
      "name": "python3",
      "display_name": "Python 3"
    },
    "language_info": {
      "name": "python"
    }
  },
  "cells": [
    {
      "cell_type": "markdown",
      "metadata": {
        "id": "view-in-github",
        "colab_type": "text"
      },
      "source": [
        "<a href=\"https://colab.research.google.com/github/yasuhiroinoue/AppMathSci/blob/main/%E5%BF%9C%E7%94%A8%E6%95%B0%E7%90%86(2022_01_24).ipynb\" target=\"_parent\"><img src=\"https://colab.research.google.com/assets/colab-badge.svg\" alt=\"Open In Colab\"/></a>"
      ]
    },
    {
      "cell_type": "markdown",
      "metadata": {
        "id": "cdmWAUzs5Msv"
      },
      "source": [
        "##**応用数理科学（第14回）**##\n",
        "ハッカソン\n",
        "\n",
        "個人でやるもよし、チームでやるもよし。講義で学んだことを実践してみよう。"
      ]
    },
    {
      "cell_type": "markdown",
      "metadata": {
        "id": "gXFMp0dF5osM"
      },
      "source": [
        "１．マウナロアにおける月平均CO2値について、現在取得できる最新値から6ヶ月先まで予測しなさい。\n",
        "\n",
        "[データセット（CO2 at Mauna Loa）](https://gml.noaa.gov/ccgg/trends/data.html)\n"
      ]
    },
    {
      "cell_type": "markdown",
      "metadata": {
        "id": "NTyEjxB9vJlr"
      },
      "source": [
        "２．人口動態について、数理モデルを作成し、実際のデータを用いて、各国のパラメータ値を推定しなさい。\n",
        "\n",
        "（データ例）\n",
        "[日本](https://datacommons.org/place/country/JPN?hl=ja)\n",
        "[インド](https://datacommons.org/place/country/IND?hl=ja)\n",
        "[中国](https://datacommons.org/place/country/CHN?hl=ja)\n",
        "[米国](https://datacommons.org/place/country/USA?hl=ja)\n",
        "[韓国](https://datacommons.org/place/country/KOR?hl=ja)\n",
        "[ドイツ](https://datacommons.org/place/country/DEU?hl=ja)\n",
        "[英国](https://datacommons.org/place/country/GBR?hl=ja)\n",
        "[フランス](https://datacommons.org/place/country/FRA?hl=ja)\n",
        "[ブラジル](https://datacommons.org/place/country/BRA?hl=ja)\n",
        "\n",
        "＊リンク先の右上に国名を入れれば、ここに挙げた国以外の統計データも参照できます。\n",
        "\n"
      ]
    },
    {
      "cell_type": "markdown",
      "metadata": {
        "id": "ZHVdfURUvzuq"
      },
      "source": [
        "３．自分が取り組む研究に、数理科学の応用を考え、その実践した結果をまとめなさい。"
      ]
    }
  ]
}