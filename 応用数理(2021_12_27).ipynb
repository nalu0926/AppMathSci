{
  "nbformat": 4,
  "nbformat_minor": 0,
  "metadata": {
    "colab": {
      "name": "応用数理(2021.12.27).ipynb",
      "provenance": [],
      "collapsed_sections": [],
      "authorship_tag": "ABX9TyPTAmqpOmXTxzgepM+uoqAH",
      "include_colab_link": true
    },
    "kernelspec": {
      "name": "python3",
      "display_name": "Python 3"
    },
    "language_info": {
      "name": "python"
    }
  },
  "cells": [
    {
      "cell_type": "markdown",
      "metadata": {
        "id": "view-in-github",
        "colab_type": "text"
      },
      "source": [
        "<a href=\"https://colab.research.google.com/github/yasuhiroinoue/AppMathSci/blob/main/%E5%BF%9C%E7%94%A8%E6%95%B0%E7%90%86(2021_12_27).ipynb\" target=\"_parent\"><img src=\"https://colab.research.google.com/assets/colab-badge.svg\" alt=\"Open In Colab\"/></a>"
      ]
    },
    {
      "cell_type": "markdown",
      "metadata": {
        "id": "cdmWAUzs5Msv"
      },
      "source": [
        "##**応用数理科学（第13回）**##\n",
        "ハッカソン（データ解析編）"
      ]
    },
    {
      "cell_type": "markdown",
      "metadata": {
        "id": "gXFMp0dF5osM"
      },
      "source": [
        "個人でやるもよし、チームでやるもよし。講義で学んだことを実践してみよう。\n",
        "\n",
        "マウナロアにおける月平均CO2値について、現在取得できる最新値から6ヶ月先まで予測しなさい。\n",
        "\n",
        "[データセット（CO2 at Mauna Loa）](https://gml.noaa.gov/ccgg/trends/data.html)\n"
      ]
    }
  ]
}