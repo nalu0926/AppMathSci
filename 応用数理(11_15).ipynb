{
  "nbformat": 4,
  "nbformat_minor": 0,
  "metadata": {
    "colab": {
      "name": "応用数理(11.15).ipynb",
      "provenance": [],
      "authorship_tag": "ABX9TyNaQzICVqaJmY6XhKrlZ4dr",
      "include_colab_link": true
    },
    "kernelspec": {
      "name": "python3",
      "display_name": "Python 3"
    },
    "language_info": {
      "name": "python"
    }
  },
  "cells": [
    {
      "cell_type": "markdown",
      "metadata": {
        "id": "view-in-github",
        "colab_type": "text"
      },
      "source": [
        "<a href=\"https://colab.research.google.com/github/yasuhiroinoue/AppMathSci/blob/main/%E5%BF%9C%E7%94%A8%E6%95%B0%E7%90%86(11_15).ipynb\" target=\"_parent\"><img src=\"https://colab.research.google.com/assets/colab-badge.svg\" alt=\"Open In Colab\"/></a>"
      ]
    },
    {
      "cell_type": "markdown",
      "metadata": {
        "id": "44KE92FVCI6G"
      },
      "source": [
        "##**応用数理科学(第7回)**\n",
        "前回の講義では、最尤法を学び、対数尤度がモデルの良さを表すことを見てきた。\n",
        "モデル選択には、将来に得られるデータも含めた平均対数尤度を用いるのが良さそうであるが、最尤モデルで得られる最大対数尤度とはズレがあること、そのズレは、モデルの自由パラメータの数となりそう、ということを数値実験で確認した。\n",
        "今回は、最尤モデルの平均対数尤度と最大対数尤度との関係式を理論的に導出することで、モデル選択の評価指標の１つ、AICを理解しよう。"
      ]
    },
    {
      "cell_type": "markdown",
      "metadata": {
        "id": "Q_fhxw8DiM8d"
      },
      "source": [
        "##**AIC (Akaike Information Criterion)**#\n",
        "最大対数尤度$\\log L$、自由パラメータの数$k$とし\n",
        "$$AIC = -2\\log L + 2k$$\n",
        "を定義する。\n",
        "先の数値実験で得られた関係式を$-2$倍した式となる。\n",
        "したがって、AICが最小となるモデルを選択すれば、多くの場合、良いモデル選択となる。\n",
        "AICを**赤池情報量基準(Akaike Information Criterion）**という。\n",
        "\n",
        "特に、例(正規分布)で示したように、誤差が正規分布のときには、分散の最尤推定量$\\hat \\sigma^2$を用いて\n",
        "$$AIC = n\\log{2\\pi\\hat\\sigma^2}+n+2k\\tag{3}$$\n",
        "となる。\n",
        "\n",
        "注意点として、数値実験で行ったような1次元の多項式回帰モデルを作るときには、$m$次の多項式なら、$(m+1)$個の係数がある。加えて、分散も最尤推定量になるので$+1$個となり、自由パラメータの数$k=m+2$となる。（数値実験では分散に真値を与えていたので$k=m+1$）\n",
        "\n",
        "では、以下に、AICの導出を理論的に見てみよう。\n",
        "\n"
      ]
    },
    {
      "cell_type": "markdown",
      "metadata": {
        "id": "yXXyWLPPrtE9"
      },
      "source": [
        "##**準備1**##\n",
        "**フィッシャー情報量**（フィッシャー情報行列）\n",
        "\n",
        "確率変数$X$は確率密度関数$f(x,\\theta^*)$に従うとする。\n",
        "このとき、フィッシャー情報量$I$を\n",
        "$$I=E[(\\frac{\\partial}{\\partial \\theta}\\log f(X,\\theta^*))^2]$$\n",
        "と定義する。$\\log f$が2階微分可能なら\n",
        "$$I=-E[\\frac{\\partial^2}{\\partial \\theta^2}\\log f(X,\\theta^*)]$$\n",
        "と表すことができる。\n",
        "\n",
        "母数$\\theta=(\\theta_1,\\cdots,\\theta_n)$の$N$次ベクトルなら、$I$は$N \\times N$行列となり、フィッシャー情報行列という。その要素は\n",
        "$$I_{ij}=E[\\frac{\\partial}{\\partial \\theta_i}\\log f(X,\\theta^*)\\frac{\\partial}{\\partial \\theta_j}\\log f(X,\\theta^*)]$$であり、同様に\n",
        "$$I_{ij}=-E[\\frac{\\partial^2}{\\partial \\theta_i\\partial\\theta_j}\\log f(X,\\theta^*)] $$\n",
        "である。\n",
        "\n",
        "**例（正規分布）**\n",
        "\n",
        "$\\theta=(\\mu, \\sigma^2)$とおく。フィッシャー情報行列は\n",
        "$$\n",
        "I=\\left(\n",
        "\\begin{align}\n",
        "& \\frac{n}{\\sigma^2} & 0 \\\\\n",
        "& 0 & \\frac{n}{2\\sigma^4}\n",
        "\\end{align}\n",
        "\\right )\n",
        "$$\n",
        "となる"
      ]
    },
    {
      "cell_type": "markdown",
      "metadata": {
        "id": "yz-WUliZrSgd"
      },
      "source": [
        "####**解説**####\n",
        "$\\int f(x,\\theta) dx = 1$の両辺を$\\theta$について微分する。\n",
        "$$\n",
        "  \\begin{align}\n",
        "   0 &=& \\int \\frac{\\partial}{\\partial \\theta}f(x,\\theta)dx\\\\\n",
        "     &=& \\int f(x,\\theta)\\frac{\\partial}{\\partial \\theta}\\log f(x,\\theta)dx\\\\\n",
        "     &=& E[\\frac{\\partial}{\\partial \\theta}\\log f(X,\\theta)]\n",
        "  \\end{align}\n",
        "$$\n",
        "次に、もう1度微分して\n",
        "$$\n",
        "  \\begin{align}\n",
        "   0 &=& \\frac{\\partial}{\\partial \\theta}\\int f(x,\\theta)\\frac{\\partial}{\\partial \\theta}\\log f(x,\\theta)dx\\\\\n",
        "   &=& \\int \\frac{\\partial f(x,\\theta)}{\\partial \\theta}\\frac{\\partial}{\\partial \\theta}\\log f(x,\\theta)dx + \\int f(x,\\theta)\\frac{\\partial^2}{\\partial \\theta^2}\\log f(x,\\theta)\\\\\n",
        "   &=& \\int f(x,\\theta)(\\frac{\\partial}{\\partial \\theta}\\log f(x,\\theta))^2dx\n",
        "+\\int f(x,\\theta)\\frac{\\partial^2}{\\partial \\theta^2}\\log f(x,\\theta)\\\\\n",
        "&=& I + E[\\frac{\\partial^2}{\\partial \\theta^2}\\log f(X,\\theta)]\n",
        "  \\end{align}\n",
        "$$\n",
        "となり、$I=-E[\\frac{\\partial^2}{\\partial \\theta^2}\\log f(X,\\theta^*)]$"
      ]
    },
    {
      "cell_type": "markdown",
      "metadata": {
        "id": "70aFRbyVrXH9"
      },
      "source": [
        "##**準備2**##\n",
        "**中心極限定理**\n",
        "\n",
        "確率変数$X$は平均$0$で分散$\\sigma^2$の正規分布に従うものとする。独立な確率変数$X_1,\\cdots, X_n$が、$X$と同じ分布に従うとき、\n",
        "$$Z_n = \\frac{1}{\\sqrt{n}}\\sum_{i=1}^nX_i$$\n",
        "は平均$0$で分散$\\sigma^2$の正規分布に従う確率変数$Z$に法則収束する\n",
        "$$\\lim_{n\\rightarrow\\infty}E[g(\\frac{1}{\\sqrt{n}}\\sum_{i=1}^nX_i)]=E[g(Z)]$$\n",
        "ここで、$g(x)$は任意の有界連続関数である。"
      ]
    },
    {
      "cell_type": "markdown",
      "metadata": {
        "id": "lGbabtjr1Pbl"
      },
      "source": [
        "**解説**\n",
        "\n",
        "確率変数$X$は、確率密度関数$f(x)$に従うとする。次の実数$t$の関数を特性関数という。（フーリエ変換）\n",
        "$$\n",
        "\\phi(t) = E[e^{itX}] = \\int_{-\\infty}^\\infty e^{itX}f(x)dx\n",
        "$$\n",
        "\n",
        "中心極限定理は、任意の有界連続関数$g(x)$についての期待値が、正規分布による期待値に収束することである。つまり、特性関数が任意の$t$で収束すればよい。\n",
        "\n",
        "$Z_n$の特性関数は\n",
        "$$\n",
        "\\phi_n(t) = E[\\exp(it \\frac{1}{\\sqrt{n}}\\sum_{j=1}^nX_j)]\\\\ \n",
        "=E[\\Pi_{j=1}^n \\exp(\\frac{itX_j}{\\sqrt{n}})]\\\\ \n",
        "=\\left(E[\\exp(\\frac{itX}{\\sqrt{n}})] \\right)^n\n",
        "$$\n",
        "ここで、3段目に移るときに、$X_j$は互いに独立で同じ分布に従うことを用いた。\n",
        "\n",
        "次の関数$g(s)$を導入する。\n",
        "$$\n",
        "g(s)=\\left\\{\n",
        "\\begin{matrix}\n",
        "\\frac{e^{is}-1-is}{-s^2/2} &(s\\neq0)\\\\ \n",
        "1 & (s=0)\n",
        "\\end{matrix}\\right.\n",
        "$$\n",
        "$|s|>1$において$|g(s)|\\leq 2(|s|+2)/|s|^2$で有界である。\n",
        "\n",
        "\n",
        "$$\n",
        "E[\\exp(\\frac{itX}{\\sqrt{n}})]=1  - \\frac{t^2}{2n}E[X^2g(\\frac{tX}{\\sqrt{n}})]\n",
        "$$\n",
        "ここで、\n",
        "$$\n",
        "E[\\frac{itx}{\\sqrt{n}}] = 0\n",
        "$$\n",
        "$t$固定のもと、各$X$について、$n\\rightarrow\\infty$で\n",
        "$g(tX/\\sqrt{n})\\rightarrow 1$であるから、積分と極限を交換し\n",
        "$$\n",
        "E[X^2\\lim_{n\\rightarrow\\infty}g(tX/\\sqrt{n})] = E[X^2]=\\sigma^2\n",
        "$$\n",
        "したがって\n",
        "$$\n",
        "\\lim_{n\\rightarrow\\infty}\\phi_n(t)=\\lim_{n\\rightarrow\\infty}\\left(1-\\frac{t^2\\sigma^2}{2n}\\right)^n=\\exp(-\\frac{\\sigma^2}{2}t^2)\n",
        "$$\n",
        "右辺は、正規分布の特性関数である。\n"
      ]
    },
    {
      "cell_type": "markdown",
      "metadata": {
        "id": "K0b1cYKkvMFb"
      },
      "source": [
        "##**準備3**##\n",
        "尤度方程式から、$\\theta=\\hat \\theta$のとき、\n",
        "$$\\left[\\frac{\\partial \\log L}{\\partial \\theta}\\right]_{\\theta=\\hat\\theta}=0$$\n",
        "である。この式を真の値$\\theta^*$の周りでテイラー展開する。\n",
        "$$\\sum_{i=1}^n[\\frac{\\partial}{\\partial \\theta}\\log f(X_i,\\theta)]_{\\theta=\\theta*}+(\\hat \\theta - \\theta^*)\\sum_{i=1}^n[\\frac{\\partial^2}{\\partial \\theta^2}\\log f(X_i,\\theta)]_{\\theta=\\theta*}=0$$\n",
        "\n",
        "$n$が大きくなると、$\\hat \\theta\\rightarrow\\theta^*$であるので、\n",
        "$$\\lim_{n\\rightarrow\\infty}\\frac{1}{n}\\sum_{i=1}^n[\\frac{\\partial^2}{\\partial \\theta^2}\\log f(X_i,\\theta)]_{\\theta=\\theta*}= -I$$\n",
        "したがって、\n",
        "$$\\frac{1}{\\sqrt{n}}\\sum_{i=1}^n[\\frac{\\partial}{\\partial \\theta}\\log f(X_i,\\theta)]_{\\theta=\\theta*}=\\sqrt{n}(\\hat \\theta - \\theta^*)\\sum_{i=1}^n-\\frac{1}{n}[\\frac{\\partial^2}{\\partial \\theta^2}\\log f(X_i,\\theta)]_{\\theta=\\theta*}\\rightarrow \\sqrt{n}(\\hat \\theta - \\theta^*)I$$"
      ]
    },
    {
      "cell_type": "markdown",
      "metadata": {
        "id": "ngz1jgAwrY-N"
      },
      "source": [
        "##**準備4**##\n",
        "$\\sqrt{n}(\\hat \\theta - \\theta^*)$は、$n\\rightarrow\\infty$で正規分布$N(0,I^{-1})$に従う。\n",
        "$$\\sqrt{n}(\\hat \\theta - \\theta^*) \\sim N(0,I^{-1})$$\n"
      ]
    },
    {
      "cell_type": "markdown",
      "metadata": {
        "id": "1rZFItjJsq4x"
      },
      "source": [
        "**解説**\n",
        "$$Z_n=\\frac{1}{\\sqrt{n}}\\sum_{i=1}^n\\frac{\\partial}{\\partial \\theta}\\log f(X_i,\\theta^*)$$\n",
        "とおく。準備1より\n",
        "$$E[\\frac{\\partial}{\\partial \\theta}\\log f(X_i,\\theta^*)]=0$$であるので、\n",
        "$$V[\\frac{\\partial}{\\partial \\theta}\\log f(X_i,\\theta^*)]=E[(\\frac{\\partial}{\\partial \\theta}\\log f(X,\\theta^*))^2]=I$$\n",
        "ここで、$V[\\cdot]$は分散の計算を表す。\n",
        "\n",
        "準備2より、$n\\rightarrow\\infty$のとき、$Z_n$は、平均$0$、分散$I$の正規分布に従う確率変数$Z$に収束する。\n",
        "$$Z\\sim N(0,I)$$\n",
        "さらに、準備3より、$n\\rightarrow\\infty$のとき、$Z_n\\rightarrow \\sqrt{n}(\\hat \\theta - \\theta^*)I$であるので、\n",
        "$$\\sqrt{n}(\\hat \\theta - \\theta^*)I \\sim N(0,I)$$\n",
        "したがって、\n",
        "$$\\frac{Z}{I}\\sim N(0,\\frac{I}{I^2})=N(0,I^{-1})$$\n",
        "より、\n",
        "$$\\sqrt{n}(\\hat \\theta - \\theta^*)\\sim N(0,I^{-1})$$"
      ]
    },
    {
      "cell_type": "markdown",
      "metadata": {
        "id": "7gFz2Ybch1T_"
      },
      "source": [
        "##**準備5**##\n",
        "**カイ2乗分布**\n",
        "\n",
        "$X_1, \\cdots, X_k$が互いに独立に正規分布$N(0,1)$に従うとする。このとき、新しい変数$\\chi^2_k$をベクトル$X=(X_1,\\cdots,X_k)$のノルムの2乗で定義する。\n",
        "$$\\chi^2_k=||X||^2=X^TX$$\n",
        "$\\chi^2_k$は非負値の確率変数となり、$\\chi^2_k$の従う分布$f(\\chi^2_k)$を自由度$k$の[カイ2乗分布](https://ja.wikipedia.org/wiki/%E3%82%AB%E3%82%A4%E4%BA%8C%E4%B9%97%E5%88%86%E5%B8%83)という。$\\chi^2_k$の期待値は\n",
        "$$\\int_0^\\infty\\chi^2_kf(\\chi^2_k)d\\chi^2_k=k$$\n",
        "となり、自由度と等しい。\n",
        "\n",
        "$k$次元の平均ベクトル$\\mu$、共分散行列$\\Sigma$としたとき、$X\\sim N(\\mu, \\Sigma)$を考える。\n",
        "共分散行列は、正定値対称行列なので下三角行列$L$とその転置行列に分解（[コレスキー分解](https://ja.wikipedia.org/wiki/%E3%82%B3%E3%83%AC%E3%82%B9%E3%82%AD%E3%83%BC%E5%88%86%E8%A7%A3)）でき、\n",
        "$$\\Sigma = LL^T$$\n",
        "となる。\n",
        "$Y=L^{-1}(X-\\mu)$とすると\n",
        "$$||Y||^2=(X-\\mu)^T\\Sigma^{-1}(X-\\mu)$$\n",
        "は、自由度$k$のカイ2乗分布に従う。"
      ]
    },
    {
      "cell_type": "markdown",
      "metadata": {
        "id": "rFe6maVdpvd9"
      },
      "source": [
        "**解説**\n",
        "\n",
        "カイ2乗分布の確率密度関数は\n",
        "$$\n",
        "f(\\chi^2_k) = \\frac{1}{2^{\\frac{k}{2}}\\Gamma (\\frac{1}{2})}(\\chi_k^2)^{\\frac{k}{2}-1}\\exp(-\\frac{\\chi^2_k}{2})\n",
        "$$\n",
        "である。\n",
        "\n",
        "いま、実数パラメータ$a>0$を用いて、$\\chi_k^2=ay$とおく。\n",
        "確率の規格化条件より、変数を置き換えても\n",
        "$$\n",
        "\\int_0^\\infty f(ay) d(ay) = 1\n",
        "$$\n",
        "である。\n",
        "具体的には\n",
        "$$\n",
        "a^{\\frac{k}{2}}\\int_0^\\infty \\frac{1}{2^{\\frac{k}{2}}\\Gamma (\\frac{1}{2})}y^{\\frac{k}{2}-1}\\exp(-\\frac{ay}{2}) dy = 1\n",
        "$$\n",
        "である。$d(ay)=ady$とした。\n",
        "\n",
        "次に、パラメータ$a$を変数とみなして、両辺を微分すると、\n",
        "$$\n",
        "\\frac{k}{2}a^{-1}-\\frac{a^{\\frac{k}{2}}}{2}\\int_0^\\infty \\frac{y}{2^{\\frac{k}{2}}\\Gamma (\\frac{1}{2})}y^{\\frac{k}{2}-1}\\exp(-\\frac{ay}{2}) dy=0\n",
        "$$\n",
        "$a=1$を代入して整理すると\n",
        "$$\n",
        "\\int_0^\\infty \\frac{y}{2^{\\frac{k}{2}}\\Gamma (\\frac{1}{2})}y^{\\frac{k}{2}-1}\\exp(-\\frac{y}{2}) dy = k\n",
        "$$\n",
        "左辺は$E[\\chi_k^2]$であるので、カイ2乗の期待値は\n",
        "$$E[\\chi_k^2]=k$$\n",
        "となる。\n",
        "\n",
        "規格化条件の式で両辺を$a$で二階微分してから$a=1$を代入すると\n",
        "$$\n",
        "E[(\\chi_k^2)^2]=k(k+2)\n",
        "$$\n",
        "が得られる。これより、分散は\n",
        "$$\n",
        "V[\\chi_k^2]=E[(\\chi_k^2)^2] - (E[\\chi_k^2])^2=2k\n",
        "$$\n",
        "となる。"
      ]
    },
    {
      "cell_type": "markdown",
      "metadata": {
        "id": "03j6Z1oCo4Jw"
      },
      "source": [
        "##**AICの導出**##\n",
        "最尤モデルの平均対数尤度の$n$倍\n",
        "$$l^*(\\hat\\theta_k):=nE_Z[\\log f(Z|\\hat \\theta_k)]$$\n",
        "を真の値$\\theta^*$の周りでテーラー展開すると\n",
        "$$l^*(\\hat\\theta_k)=l^*(\\theta^*)+n(\\hat\\theta_k-\\theta^*)^TE_Z\\left[\\frac{\\partial}{\\partial \\theta}\\log f(Z|\\theta)\\right]_{\\theta=\\theta^*}+\\frac{1}{2}n(\\hat\\theta_k-\\theta^*)^TE_Z\\left[\\left(\\frac{\\partial}{\\partial\\theta}\\log f(Z|\\theta)\\right)\\left(\\frac{\\partial}{\\partial \\theta}\\log f(Z|\\theta)\\right )^T\\right]_{\\theta=\\theta^*}(\\hat\\theta_k - \\theta^*) $$\n",
        "となる。ここでは、列ベクトル標準で表示している。\n",
        "\n",
        "準備1より、1階微分項の期待値は$0$であり、2階微分項はフィッシャー情報行列$I\\times-1$となる。\n",
        "したがって、\n",
        "$$\n",
        "l^*(\\hat\\theta_k)=l^*(\\theta^*)-\\frac{1}{2}\\sqrt{n}(\\hat\\theta_k - \\theta^*)^TI\\sqrt{n}(\\hat\\theta_k - \\theta^*)\n",
        "$$\n",
        "が得られる。$n\\rightarrow\\infty$のもとでは、準備4より、右辺第2項に現れている\n",
        "$$\n",
        "\\sqrt{n}(\\hat\\theta_k - \\theta^*)\\sim N(0,I^{-1})\n",
        "$$\n",
        "となる。したがって、右辺の第2項は、$n\\rightarrow\\infty$のもとでは、準備5より自由度$k$のカイ2乗分布に従う。\n",
        "真の分布で期待値を取ることで\n",
        "$$\n",
        "E_X[l^*(\\hat\\theta_k)]=l^*(\\theta^*)-\\frac{1}{2}E_X[\\sqrt{n}(\\hat\\theta_k - \\theta^*)^TI\\sqrt{n}(\\hat\\theta_k - \\theta^*)]=l^*(\\theta^*)-\\frac{k}{2}\\tag{1}\n",
        "$$\n",
        "を得る。\n",
        "\n",
        "次に、対数尤度\n",
        "$\n",
        "l(\\theta)=\\sum_{i=1}^n\\log f(x_i|\\theta)\n",
        "$\n",
        "を最尤推定量$\\hat\\theta_k$の周りでテーラー展開する。\n",
        "$$\n",
        "l(\\theta) = l(\\hat\\theta_k) + (\\theta-\\hat\\theta_k)^T\\left[\\frac{\\partial l}{\\partial \\theta}\\right]_{\\theta=\\hat\\theta_k}+\n",
        "\\frac{1}{2}(\\theta-\\hat\\theta_k)^T\\left[\\left(\\frac{\\partial l}{\\partial \\theta}\\right)\\left(\\frac{\\partial l}{\\partial \\theta}\\right)^T\\right]_{\\theta=\\theta_k}(\\theta-\\hat\\theta_k)\\\\\n",
        "=l(\\hat\\theta_k) + n(\\theta-\\hat\\theta_k)^T\\left[\\frac{1}{n}\\frac{\\partial l}{\\partial \\theta}\\right]_{\\theta=\\hat\\theta_k}+\n",
        "\\frac{1}{2}\\sqrt{n}(\\theta-\\hat\\theta_k)^T\\left[\\frac{1}{n}\\left(\\frac{\\partial l}{\\partial \\theta}\\right)\\left(\\frac{\\partial l}{\\partial \\theta}\\right)^T\\right]_{\\theta=\\theta_k}\\sqrt{n}(\\theta-\\hat\\theta_k)\n",
        "$$\n",
        "2段目に移るときに、$n\\times1/n=1$の恒等式を挟みこんでいる。$n\\rightarrow\\infty$のもとでは、右辺第2項目は$0$、第3項目は$-I$に近づく。\n",
        "$\\theta=\\theta^*$を代入し、\n",
        "$$\n",
        "l(\\theta^*) = l(\\hat\\theta_k) - \\frac{1}{2}\\sqrt{n}(\\theta^*-\\hat\\theta_k)^TI\\sqrt{n}(\\theta^*-\\hat\\theta_k)\n",
        "$$\n",
        "真の分布で期待値を取ることにより\n",
        "$$\n",
        "E_X[l(\\theta^*)] = E_X[l(\\hat\\theta_k)] - \\frac{k}{2}\\tag{2}\n",
        "$$\n",
        "式(1),(2)より\n",
        "$$\n",
        "E_X[l^*(\\hat\\theta_k)]=E_X[l(\\hat\\theta_k)]-k \\tag{3}\n",
        "$$\n",
        "となる。\n",
        "\n",
        "式(3)の左辺が最尤モデルの平均対数尤度の期待値、その不偏推定量として、右辺は最大対数尤度の期待値から自由パラメータの数$k$だけ引いたものが対応することを示している。\n",
        "これが前回の数値実験で見た結果を裏付ける関係式である。\n",
        "そこで、モデル選択の評価指標として、式(3)を$-2$倍して\n",
        "$$\n",
        "AIC := -2l(\\hat\\theta_k)+2k\n",
        "$$\n",
        "と定義する。"
      ]
    },
    {
      "cell_type": "markdown",
      "metadata": {
        "id": "qFemHcX9TgTM"
      },
      "source": [
        "##**演習**##\n",
        "1980年～2018年までの日本の年間CO2排出量の年次推移を数式で表現し、パラメータ値を最尤推定しなさい。モデル選択には情報量基準を用いること。\n",
        "**データは[DataCommons](https://datacommons.org/place/country/JPN?topic=Climate&hl=ja)から取得できる**\n",
        "\n",
        "なお、講義用に加工したものを[ここ](https://www.dropbox.com/s/yyym6trbcfm2csg/co2.csv?dl=0)においておく。\n",
        "\n",
        "最小二乗法で行う場合、AICは\n",
        "$$AIC = n\\log{2\\pi\\hat\\sigma^2}+n+2k\\tag{3}$$\n",
        "である。モデルに対して、データ個数が変わらないので、$n\\log \\hat\\sigma^2+2k$を比較すればよい。"
      ]
    },
    {
      "cell_type": "code",
      "metadata": {
        "colab": {
          "base_uri": "https://localhost:8080/"
        },
        "id": "nMHj55hLu3QN",
        "outputId": "b36ac29d-f6b3-49b7-b61d-cac6ab52e695"
      },
      "source": [
        "%matplotlib inline\n",
        "import numpy as np\n",
        "import pandas as pd\n",
        "import matplotlib.pyplot as plt\n",
        "from statsmodels.graphics.api import qqplot\n",
        "import statsmodels.formula.api as smf\n",
        "\n",
        "url ='https://www.dropbox.com/s/yyym6trbcfm2csg/co2.csv?dl=1'\n",
        "df = pd.read_csv(url)"
      ],
      "execution_count": null,
      "outputs": [
        {
          "output_type": "stream",
          "name": "stderr",
          "text": [
            "/usr/local/lib/python3.7/dist-packages/statsmodels/tools/_testing.py:19: FutureWarning: pandas.util.testing is deprecated. Use the functions in the public API at pandas.testing instead.\n",
            "  import pandas.util.testing as tm\n"
          ]
        }
      ]
    },
    {
      "cell_type": "code",
      "metadata": {
        "id": "dnXbCOBzwQ6q"
      },
      "source": [
        "x = df.year\n",
        "y = df.co2"
      ],
      "execution_count": null,
      "outputs": []
    },
    {
      "cell_type": "code",
      "metadata": {
        "colab": {
          "base_uri": "https://localhost:8080/"
        },
        "id": "-GW9UhffxOVX",
        "outputId": "4ff88901-3420-4524-e0c3-3ce48fb9bd78"
      },
      "source": [
        "##\n",
        "## 最小二乗法 \n",
        "## https://www.statsmodels.org/stable/index.html\n",
        "\n",
        "## 1次\n",
        "res1 = smf.ols('co2 ~ year', data=df).fit()\n",
        "print(res1.summary())\n",
        "\n",
        "## 2次\n",
        "res2 = smf.ols('co2 ~ year + np.power(year, 2)', data=df).fit()\n",
        "print(res2.summary())"
      ],
      "execution_count": null,
      "outputs": [
        {
          "output_type": "stream",
          "name": "stdout",
          "text": [
            "                            OLS Regression Results                            \n",
            "==============================================================================\n",
            "Dep. Variable:                    co2   R-squared:                       0.553\n",
            "Model:                            OLS   Adj. R-squared:                  0.541\n",
            "Method:                 Least Squares   F-statistic:                     45.76\n",
            "Date:                Sun, 14 Nov 2021   Prob (F-statistic):           5.85e-08\n",
            "Time:                        14:45:44   Log-Likelihood:                -26.406\n",
            "No. Observations:                  39   AIC:                             56.81\n",
            "Df Residuals:                      37   BIC:                             60.14\n",
            "Df Model:                           1                                         \n",
            "Covariance Type:            nonrobust                                         \n",
            "==============================================================================\n",
            "                 coef    std err          t      P>|t|      [0.025      0.975]\n",
            "------------------------------------------------------------------------------\n",
            "Intercept    -85.1901     13.906     -6.126      0.000    -113.366     -57.014\n",
            "year           0.0471      0.007      6.765      0.000       0.033       0.061\n",
            "==============================================================================\n",
            "Omnibus:                        5.149   Durbin-Watson:                   0.354\n",
            "Prob(Omnibus):                  0.076   Jarque-Bera (JB):                3.065\n",
            "Skew:                          -0.484   Prob(JB):                        0.216\n",
            "Kurtosis:                       2.026   Cond. No.                     3.55e+05\n",
            "==============================================================================\n",
            "\n",
            "Warnings:\n",
            "[1] Standard Errors assume that the covariance matrix of the errors is correctly specified.\n",
            "[2] The condition number is large, 3.55e+05. This might indicate that there are\n",
            "strong multicollinearity or other numerical problems.\n",
            "                            OLS Regression Results                            \n",
            "==============================================================================\n",
            "Dep. Variable:                    co2   R-squared:                       0.758\n",
            "Model:                            OLS   Adj. R-squared:                  0.745\n",
            "Method:                 Least Squares   F-statistic:                     56.51\n",
            "Date:                Sun, 14 Nov 2021   Prob (F-statistic):           7.85e-12\n",
            "Time:                        14:45:44   Log-Likelihood:                -14.402\n",
            "No. Observations:                  39   AIC:                             34.80\n",
            "Df Residuals:                      36   BIC:                             39.80\n",
            "Df Model:                           2                                         \n",
            "Covariance Type:            nonrobust                                         \n",
            "=====================================================================================\n",
            "                        coef    std err          t      P>|t|      [0.025      0.975]\n",
            "-------------------------------------------------------------------------------------\n",
            "Intercept         -1.148e+04   2059.833     -5.575      0.000   -1.57e+04   -7306.614\n",
            "year                 11.4521      2.061      5.557      0.000       7.272      15.632\n",
            "np.power(year, 2)    -0.0029      0.001     -5.534      0.000      -0.004      -0.002\n",
            "==============================================================================\n",
            "Omnibus:                        1.708   Durbin-Watson:                   0.645\n",
            "Prob(Omnibus):                  0.426   Jarque-Bera (JB):                1.005\n",
            "Skew:                          -0.382   Prob(JB):                        0.605\n",
            "Kurtosis:                       3.186   Cond. No.                     1.41e+11\n",
            "==============================================================================\n",
            "\n",
            "Warnings:\n",
            "[1] Standard Errors assume that the covariance matrix of the errors is correctly specified.\n",
            "[2] The condition number is large, 1.41e+11. This might indicate that there are\n",
            "strong multicollinearity or other numerical problems.\n"
          ]
        }
      ]
    },
    {
      "cell_type": "code",
      "metadata": {
        "colab": {
          "base_uri": "https://localhost:8080/",
          "height": 497
        },
        "id": "qWbYCN615sCU",
        "outputId": "ac5f754c-d7a9-4a81-faa2-c5a7888fd1f0"
      },
      "source": [
        "b0_1, b1_1 = res1.params\n",
        "b0_2, b1_2, b2_2 = res2.params\n",
        "\n",
        "fig = plt.figure(figsize=(12, 8))\n",
        "plt.scatter(x, y)\n",
        "plt.plot(x, b0_1 + b1_1*x, 'r')\n",
        "plt.plot(x, b0_2 + b1_2*x + b2_2*x**2, 'g')\n",
        "plt.xlabel(\"year\")\n",
        "plt.ylabel(\"co2\")\n",
        "plt.show()"
      ],
      "execution_count": null,
      "outputs": [
        {
          "output_type": "display_data",
          "data": {
            "image/png": "[encoded data removed]",
            "text/plain": [
              "<Figure size 864x576 with 1 Axes>"
            ]
          },
          "metadata": {
            "needs_background": "light"
          }
        }
      ]
    },
    {
      "cell_type": "code",
      "metadata": {
        "colab": {
          "base_uri": "https://localhost:8080/",
          "height": 497
        },
        "id": "2yWTf7dm3MlW",
        "outputId": "9eaca665-d60d-487e-a7c9-42d7e8b6dfe5"
      },
      "source": [
        "fig = plt.figure(figsize=(12, 8))\n",
        "ax = fig.add_subplot(111)\n",
        "fig = qqplot(res1.resid, line=\"q\", ax=ax, fit=True)"
      ],
      "execution_count": null,
      "outputs": [
        {
          "output_type": "display_data",
          "data": {
            "image/png": "[encoded data removed]",
            "text/plain": [
              "<Figure size 864x576 with 1 Axes>"
            ]
          },
          "metadata": {
            "needs_background": "light"
          }
        }
      ]
    },
    {
      "cell_type": "code",
      "metadata": {
        "colab": {
          "base_uri": "https://localhost:8080/",
          "height": 497
        },
        "id": "wa7e3dUd4i_D",
        "outputId": "2a208184-ad44-44e4-a031-04348dfc4b04"
      },
      "source": [
        "fig = plt.figure(figsize=(12, 8))\n",
        "ax = fig.add_subplot(111)\n",
        "fig = qqplot(res2.resid, line=\"q\", ax=ax, fit=True)"
      ],
      "execution_count": null,
      "outputs": [
        {
          "output_type": "display_data",
          "data": {
            "image/png": "[encoded data removed]",
            "text/plain": [
              "<Figure size 864x576 with 1 Axes>"
            ]
          },
          "metadata": {
            "needs_background": "light"
          }
        }
      ]
    }
  ]
}
