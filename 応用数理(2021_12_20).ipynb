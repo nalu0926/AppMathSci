{
  "nbformat": 4,
  "nbformat_minor": 0,
  "metadata": {
    "colab": {
      "name": "応用数理(2021.12.20).ipynb",
      "provenance": [],
      "collapsed_sections": [],
      "authorship_tag": "ABX9TyMUNlPGCAGGf7BiS/ht4e8T",
      "include_colab_link": true
    },
    "kernelspec": {
      "name": "python3",
      "display_name": "Python 3"
    },
    "language_info": {
      "name": "python"
    }
  },
  "cells": [
    {
      "cell_type": "markdown",
      "metadata": {
        "id": "view-in-github",
        "colab_type": "text"
      },
      "source": [
        "<a href=\"https://colab.research.google.com/github/yasuhiroinoue/AppMathSci/blob/main/%E5%BF%9C%E7%94%A8%E6%95%B0%E7%90%86(2021_12_20).ipynb\" target=\"_parent\"><img src=\"https://colab.research.google.com/assets/colab-badge.svg\" alt=\"Open In Colab\"/></a>"
      ]
    },
    {
      "cell_type": "markdown",
      "metadata": {
        "id": "cdmWAUzs5Msv"
      },
      "source": [
        "##**応用数理科学（第12回）**##\n",
        "\n",
        "時系列観測データから、数理モデルのパラメータをベイズ推定\n",
        "（執筆中）"
      ]
    },
    {
      "cell_type": "markdown",
      "metadata": {
        "id": "gXFMp0dF5osM"
      },
      "source": [
        "Sequential MonteCarlo (SMC);\n",
        "Approximated Bayesian Computation (ABC);"
      ]
    }
  ]
}