{
  "nbformat": 4,
  "nbformat_minor": 0,
  "metadata": {
    "colab": {
      "name": "応用数理(2021.12.20).ipynb",
      "provenance": [],
      "collapsed_sections": [],
      "authorship_tag": "ABX9TyNtK2M1q38jSlY8123N0wyS",
      "include_colab_link": true
    },
    "kernelspec": {
      "name": "python3",
      "display_name": "Python 3"
    },
    "language_info": {
      "name": "python"
    }
  },
  "cells": [
    {
      "cell_type": "markdown",
      "metadata": {
        "id": "view-in-github",
        "colab_type": "text"
      },
      "source": [
        "<a href=\"https://colab.research.google.com/github/yasuhiroinoue/AppMathSci/blob/main/%E5%BF%9C%E7%94%A8%E6%95%B0%E7%90%86(2021_12_20).ipynb\" target=\"_parent\"><img src=\"https://colab.research.google.com/assets/colab-badge.svg\" alt=\"Open In Colab\"/></a>"
      ]
    },
    {
      "cell_type": "markdown",
      "metadata": {
        "id": "osOfcMX81yru"
      },
      "source": [
        "##**応用数理科学（第12回）**##\n",
        "\n",
        "時系列解析番外編\n",
        "\n",
        "物理現象に見られる「ゆらぎ」について、20世紀後半から21世紀にかけて分かってきた法則を紹介し、それによってどのようなミクロ計測が可能になったのかを数理的に解説する。"
      ]
    },
    {
      "cell_type": "markdown",
      "metadata": {
        "id": "QuJ8lS-Y2aaX"
      },
      "source": [
        "Jaryzinski等式、ゆらぎの定理\n",
        "執筆中"
      ]
    }
  ]
}