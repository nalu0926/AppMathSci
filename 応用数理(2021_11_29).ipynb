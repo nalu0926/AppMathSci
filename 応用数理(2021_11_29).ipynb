{
  "nbformat": 4,
  "nbformat_minor": 0,
  "metadata": {
    "colab": {
      "name": "応用数理(2021.11.29).ipynb",
      "provenance": [],
      "collapsed_sections": [],
      "authorship_tag": "ABX9TyPO6EA/o1Dmag/JUKL6giUg",
      "include_colab_link": true
    },
    "kernelspec": {
      "name": "python3",
      "display_name": "Python 3"
    },
    "language_info": {
      "name": "python"
    }
  },
  "cells": [
    {
      "cell_type": "markdown",
      "metadata": {
        "id": "view-in-github",
        "colab_type": "text"
      },
      "source": [
        "<a href=\"https://colab.research.google.com/github/yasuhiroinoue/AppMathSci/blob/main/%E5%BF%9C%E7%94%A8%E6%95%B0%E7%90%86(2021_11_29).ipynb\" target=\"_parent\"><img src=\"https://colab.research.google.com/assets/colab-badge.svg\" alt=\"Open In Colab\"/></a>"
      ]
    },
    {
      "cell_type": "markdown",
      "metadata": {
        "id": "14WCwTur063B"
      },
      "source": [
        "##**応用数理科学（第9回）**##\n",
        "状態推定モデル"
      ]
    },
    {
      "cell_type": "markdown",
      "metadata": {
        "id": "0feTcHG51GSr"
      },
      "source": [
        "カルマンフィルター\n",
        "執筆中"
      ]
    }
  ]
}