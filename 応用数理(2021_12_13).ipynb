{
  "nbformat": 4,
  "nbformat_minor": 0,
  "metadata": {
    "colab": {
      "name": "応用数理(2021.12.13).ipynb",
      "provenance": [],
      "collapsed_sections": [],
      "authorship_tag": "ABX9TyNuOogKzEm105vKH4gQOmxH",
      "include_colab_link": true
    },
    "kernelspec": {
      "name": "python3",
      "display_name": "Python 3"
    },
    "language_info": {
      "name": "python"
    }
  },
  "cells": [
    {
      "cell_type": "markdown",
      "metadata": {
        "id": "view-in-github",
        "colab_type": "text"
      },
      "source": [
        "<a href=\"https://colab.research.google.com/github/yasuhiroinoue/AppMathSci/blob/main/%E5%BF%9C%E7%94%A8%E6%95%B0%E7%90%86(2021_12_13).ipynb\" target=\"_parent\"><img src=\"https://colab.research.google.com/assets/colab-badge.svg\" alt=\"Open In Colab\"/></a>"
      ]
    },
    {
      "cell_type": "markdown",
      "metadata": {
        "id": "hAlLNZoe3KsR"
      },
      "source": [
        "##**応用数理科学（第11回）**##\n",
        "\n",
        "あれとこれが似ているとは、どのような尺度で何が似ているのか？\n",
        "クラスター解析について学ぼう。"
      ]
    },
    {
      "cell_type": "markdown",
      "metadata": {
        "id": "fHMsRD2l3rMl"
      },
      "source": [
        "K-means, EMアルゴリズム\n",
        "執筆中"
      ]
    }
  ]
}